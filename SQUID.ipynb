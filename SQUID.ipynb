{
 "cells": [
  {
   "attachments": {},
   "cell_type": "markdown",
   "metadata": {},
   "source": [
    "# SQUID"
   ]
  },
  {
   "attachments": {},
   "cell_type": "markdown",
   "metadata": {},
   "source": [
    "## initial imports"
   ]
  },
  {
   "cell_type": "code",
   "execution_count": 85,
   "metadata": {},
   "outputs": [],
   "source": [
    "import numpy as np\n",
    "import matplotlib.pyplot as plt\n",
    "import pandas as pd\n",
    "from scipy.optimize import curve_fit\n",
    "import scipy.constants as con\n",
    "import uncertainties as un\n",
    "import uncertainties.unumpy as unp\n",
    "from scipy.signal import find_peaks\n",
    "import scienceplots\n",
    "plt.style.use('science')\n"
   ]
  },
  {
   "cell_type": "code",
   "execution_count": 86,
   "metadata": {},
   "outputs": [],
   "source": [
    "# normalize\n",
    "def normalize(arr, t_min, t_max):\n",
    "    arr = arr.to_numpy()\n",
    "    norm_arr = []\n",
    "    diff = t_max - t_min\n",
    "    diff_arr = max(arr) - min(arr)   \n",
    "    for i in arr:\n",
    "        temp = (((i - min(arr))*diff)/diff_arr) + t_min\n",
    "        norm_arr.append(temp)\n",
    "    return norm_arr\n",
    "def simple_norm(arr):\n",
    "    arr = arr.to_numpy()\n",
    "    norm_arr = []\n",
    "    diff = 1\n",
    "    diff_arr = max(arr) - min(arr)   \n",
    "    for i in arr:\n",
    "        temp = (((i - min(arr))*diff)/diff_arr)\n",
    "        norm_arr.append(temp)\n",
    "    return norm_arr\n",
    "def norm2(arr):\n",
    "    arr = arr.to_numpy()\n",
    "    diff_arr = max(arr) - min(arr)   \n",
    "    return arr/diff_arr\n",
    "\n",
    "def mapcolors(n):\n",
    "    \"\"\"Return a list of n colors from the default colormap\"\"\"\n",
    "    return [plt.cm.jet(int(x*plt.cm.jet.N/n)) for x in range(n)]"
   ]
  },
  {
   "attachments": {},
   "cell_type": "markdown",
   "metadata": {},
   "source": [
    "## 1 Diode Calibration"
   ]
  },
  {
   "attachments": {},
   "cell_type": "markdown",
   "metadata": {},
   "source": [
    "### Load data"
   ]
  },
  {
   "cell_type": "code",
   "execution_count": 87,
   "metadata": {},
   "outputs": [
    {
     "data": {
      "text/html": [
       "<div>\n",
       "<style scoped>\n",
       "    .dataframe tbody tr th:only-of-type {\n",
       "        vertical-align: middle;\n",
       "    }\n",
       "\n",
       "    .dataframe tbody tr th {\n",
       "        vertical-align: top;\n",
       "    }\n",
       "\n",
       "    .dataframe thead th {\n",
       "        text-align: right;\n",
       "    }\n",
       "</style>\n",
       "<table border=\"1\" class=\"dataframe\">\n",
       "  <thead>\n",
       "    <tr style=\"text-align: right;\">\n",
       "      <th></th>\n",
       "      <th>0_x</th>\n",
       "      <th>0_y</th>\n",
       "    </tr>\n",
       "  </thead>\n",
       "  <tbody>\n",
       "    <tr>\n",
       "      <th>0</th>\n",
       "      <td>0.985322</td>\n",
       "      <td>33.925200</td>\n",
       "    </tr>\n",
       "    <tr>\n",
       "      <th>1</th>\n",
       "      <td>1.749933</td>\n",
       "      <td>102.407787</td>\n",
       "    </tr>\n",
       "    <tr>\n",
       "      <th>2</th>\n",
       "      <td>4.553510</td>\n",
       "      <td>172.417867</td>\n",
       "    </tr>\n",
       "    <tr>\n",
       "      <th>3</th>\n",
       "      <td>6.337605</td>\n",
       "      <td>239.627543</td>\n",
       "    </tr>\n",
       "    <tr>\n",
       "      <th>4</th>\n",
       "      <td>8.121699</td>\n",
       "      <td>307.855548</td>\n",
       "    </tr>\n",
       "    <tr>\n",
       "      <th>...</th>\n",
       "      <td>...</td>\n",
       "      <td>...</td>\n",
       "    </tr>\n",
       "    <tr>\n",
       "      <th>495</th>\n",
       "      <td>60.625049</td>\n",
       "      <td>1062.182331</td>\n",
       "    </tr>\n",
       "    <tr>\n",
       "      <th>496</th>\n",
       "      <td>61.134790</td>\n",
       "      <td>1062.182331</td>\n",
       "    </tr>\n",
       "    <tr>\n",
       "      <th>497</th>\n",
       "      <td>63.938367</td>\n",
       "      <td>1062.182331</td>\n",
       "    </tr>\n",
       "    <tr>\n",
       "      <th>498</th>\n",
       "      <td>65.467591</td>\n",
       "      <td>1062.182331</td>\n",
       "    </tr>\n",
       "    <tr>\n",
       "      <th>499</th>\n",
       "      <td>67.761427</td>\n",
       "      <td>1062.182331</td>\n",
       "    </tr>\n",
       "  </tbody>\n",
       "</table>\n",
       "<p>500 rows × 2 columns</p>\n",
       "</div>"
      ],
      "text/plain": [
       "           0_x          0_y\n",
       "0     0.985322    33.925200\n",
       "1     1.749933   102.407787\n",
       "2     4.553510   172.417867\n",
       "3     6.337605   239.627543\n",
       "4     8.121699   307.855548\n",
       "..         ...          ...\n",
       "495  60.625049  1062.182331\n",
       "496  61.134790  1062.182331\n",
       "497  63.938367  1062.182331\n",
       "498  65.467591  1062.182331\n",
       "499  67.761427  1062.182331\n",
       "\n",
       "[500 rows x 2 columns]"
      ]
     },
     "execution_count": 87,
     "metadata": {},
     "output_type": "execute_result"
    }
   ],
   "source": [
    "room_temp = pd.read_csv('SQUID/data/V-I/roomtemp.csv')\n",
    "liquid_nitrogen = pd.read_csv('SQUID/data/V-I/crittemp.csv')\n",
    "room_temp"
   ]
  },
  {
   "attachments": {},
   "cell_type": "markdown",
   "metadata": {},
   "source": [
    "### analysis"
   ]
  },
  {
   "cell_type": "code",
   "execution_count": 88,
   "metadata": {},
   "outputs": [
    {
     "name": "stdout",
     "output_type": "stream",
     "text": [
      "1.6325167650794552\n",
      "R_N = 3.265+/-0.010 Ohm\n"
     ]
    },
    {
     "data": {
      "image/png": "[encoded data removed]",
      "text/plain": [
       "<Figure size 252x189 with 1 Axes>"
      ]
     },
     "metadata": {
      "needs_background": "light"
     },
     "output_type": "display_data"
    }
   ],
   "source": [
    "plt.plot(room_temp['0_x'], room_temp['0_y'], label='room temp')\n",
    "plt.plot(liquid_nitrogen['0_x'], liquid_nitrogen['0_y'], label='liquid nitrogen')\n",
    "plt.xlabel('Current [uA]')\n",
    "plt.ylabel('Voltage [uV]')\n",
    "dx = [liquid_nitrogen['0_x'][350],liquid_nitrogen['0_x'][120]]\n",
    "dy = [liquid_nitrogen['0_y'][350],liquid_nitrogen['0_y'][120]]\n",
    "plt.scatter(dx,dy)\n",
    "normal_slope =(dy[1]- dy[0]) / (dx[1]- dx[0])\n",
    "print(normal_slope)\n",
    "R_N = un.ufloat(normal_slope*2, 0.01)\n",
    "print(f\"R_N = {R_N} Ohm\")"
   ]
  },
  {
   "cell_type": "code",
   "execution_count": 89,
   "metadata": {},
   "outputs": [
    {
     "name": "stdout",
     "output_type": "stream",
     "text": [
      "242.3+/-2.6\n",
      "5.623+/-0.028\n"
     ]
    },
    {
     "data": {
      "image/png": "[encoded data removed]",
      "text/plain": [
       "<Figure size 252x189 with 1 Axes>"
      ]
     },
     "metadata": {
      "needs_background": "light"
     },
     "output_type": "display_data"
    }
   ],
   "source": [
    "mi,ma = 60, 165\n",
    "x,y = liquid_nitrogen['0_x'], liquid_nitrogen['0_y']\n",
    "plt.plot(x, y ,label='data')\n",
    "\n",
    "xl = np.linspace(-300,300,500)\n",
    "half = int(len(xl)/2)\n",
    "\n",
    "# plt.plot(x[mi:ma], y[mi:ma] ,label='top data')\n",
    "c, cov = curve_fit(lambda x, a, b: a*x + b, x[mi:ma], y[mi:ma])\n",
    "perr = np.sqrt(np.diag(cov))\n",
    "x0= - un.ufloat(c[1],perr[1])/un.ufloat(c[0],perr[0]) \n",
    "slope_top = un.ufloat(c[0],perr[0]) \n",
    "\n",
    "plt.plot(xl[half:], c[0]*xl[half:] + c[1], label='top fit',lw=1)\n",
    "\n",
    "mi,ma = 280, 410\n",
    "# plt.plot(x[mi:ma], y[mi:ma] ,label='bottom data')\n",
    "c, cov = curve_fit(lambda x, a, b: a*x + b, x[mi:ma], y[mi:ma])\n",
    "perr = np.sqrt(np.diag(cov))\n",
    "\n",
    "plt.plot(xl[:half], c[0]*xl[:half] + c[1], label='bottom fit',lw=1)\n",
    "width = x0 + un.ufloat(c[1],perr[1])/un.ufloat(c[0],perr[0])\n",
    "print(width)\n",
    "\n",
    "plt.scatter([x0.n,-c[1]/c[0]],[0,0],c='k',label='intersection')\n",
    "\n",
    "res_n = (slope_top + un.ufloat(c[0],perr[0]) )\n",
    "print(res_n)\n",
    "plt.legend()\n",
    "plt.xlabel('Current [uA]')\n",
    "plt.ylabel('Voltage [uV]')\n",
    "\n",
    "plt.savefig('SQUID/output/2-critical-current.png', dpi=300)"
   ]
  },
  {
   "cell_type": "code",
   "execution_count": 90,
   "metadata": {},
   "outputs": [
    {
     "name": "stdout",
     "output_type": "stream",
     "text": [
      "width= 0.2423+/-0.0026 mA\n",
      "I_crit= 60.6+/-0.6 uA\n",
      "U_crit1= 0.1978+/-0.0022 mV\n",
      "U_crit2= 0.341+/-0.004 mV\n"
     ]
    }
   ],
   "source": [
    "print(f\"width= {width*1e-3} mA\")\n",
    "critical_current = width /4 * 1e-6\n",
    "print(f\"I_crit= {critical_current*1e6} uA\")\n",
    "critical_voltage1 = critical_current * R_N\n",
    "print(f\"U_crit1= {critical_voltage1*1e3} mV\")\n",
    "critical_voltage2 = critical_current * res_n\n",
    "print(f\"U_crit2= {critical_voltage2*1e3} mV\")\n"
   ]
  },
  {
   "cell_type": "code",
   "execution_count": 91,
   "metadata": {},
   "outputs": [
    {
     "data": {
      "text/plain": [
       "(-373.19587628865975+/-1.5264446888479353,\n",
       " 444.74793814432985+/-1.2277405249506017)"
      ]
     },
     "execution_count": 91,
     "metadata": {},
     "output_type": "execute_result"
    },
    {
     "data": {
      "image/png": "[encoded data removed]",
      "text/plain": [
       "<Figure size 252x189 with 1 Axes>"
      ]
     },
     "metadata": {
      "needs_background": "light"
     },
     "output_type": "display_data"
    }
   ],
   "source": [
    "calibr_temp = [21.2+273.15, 77.15]\n",
    "calibr_volts = [403*1e-3, 985*1e-3]\n",
    "\n",
    "calibr_temp = unp.uarray(calibr_temp,[0.4,0.05])\n",
    "calibr_volts = unp.uarray(calibr_volts,1.5e-3)\n",
    "\n",
    "voltrange = np.linspace(300e-3, 1200e-3, 1000)\n",
    "\n",
    "plt.scatter(unp.nominal_values(calibr_volts), unp.nominal_values(calibr_temp), label='calibration points')\n",
    "\n",
    "m = (calibr_temp[1]-calibr_temp[0])/(calibr_volts[1]-calibr_volts[0])\n",
    "b = calibr_temp[0] - m*calibr_volts[0]\n",
    "\n",
    "plt.plot(voltrange, unp.nominal_values(m*voltrange + b), label='fit')\n",
    "\n",
    "def temp(volt):\n",
    "    return m*volt + b\n",
    "\n",
    "plt.xlabel('Voltage [V]')\n",
    "plt.ylabel('Temperature [K]')\n",
    "plt.savefig('SQUID/output/2-diode-calibration.png', dpi=300)\n",
    "\n",
    "m, b"
   ]
  },
  {
   "attachments": {},
   "cell_type": "markdown",
   "metadata": {},
   "source": [
    "## 2 Temperature dependency"
   ]
  },
  {
   "attachments": {},
   "cell_type": "markdown",
   "metadata": {},
   "source": [
    "### Load data"
   ]
  },
  {
   "cell_type": "code",
   "execution_count": 92,
   "metadata": {},
   "outputs": [
    {
     "data": {
      "text/html": [
       "<div>\n",
       "<style scoped>\n",
       "    .dataframe tbody tr th:only-of-type {\n",
       "        vertical-align: middle;\n",
       "    }\n",
       "\n",
       "    .dataframe tbody tr th {\n",
       "        vertical-align: top;\n",
       "    }\n",
       "\n",
       "    .dataframe thead th {\n",
       "        text-align: right;\n",
       "    }\n",
       "</style>\n",
       "<table border=\"1\" class=\"dataframe\">\n",
       "  <thead>\n",
       "    <tr style=\"text-align: right;\">\n",
       "      <th></th>\n",
       "      <th>0_x</th>\n",
       "      <th>0_y</th>\n",
       "      <th>1_x</th>\n",
       "      <th>1_y</th>\n",
       "      <th>2_x</th>\n",
       "      <th>2_y</th>\n",
       "      <th>3_x</th>\n",
       "      <th>3_y</th>\n",
       "      <th>4_x</th>\n",
       "      <th>4_y</th>\n",
       "      <th>5_x</th>\n",
       "      <th>5_y</th>\n",
       "      <th>6_x</th>\n",
       "      <th>6_y</th>\n",
       "      <th>7_x</th>\n",
       "      <th>7_y</th>\n",
       "    </tr>\n",
       "  </thead>\n",
       "  <tbody>\n",
       "    <tr>\n",
       "      <th>0</th>\n",
       "      <td>122.303741</td>\n",
       "      <td>6.430333</td>\n",
       "      <td>120.774517</td>\n",
       "      <td>5.921169</td>\n",
       "      <td>120.774517</td>\n",
       "      <td>9.739900</td>\n",
       "      <td>120.009906</td>\n",
       "      <td>13.304050</td>\n",
       "      <td>121.539129</td>\n",
       "      <td>31.379379</td>\n",
       "      <td>120.519647</td>\n",
       "      <td>123.538102</td>\n",
       "      <td>122.558612</td>\n",
       "      <td>262.539933</td>\n",
       "      <td>121.539129</td>\n",
       "      <td>233.262990</td>\n",
       "    </tr>\n",
       "    <tr>\n",
       "      <th>1</th>\n",
       "      <td>124.597577</td>\n",
       "      <td>6.430333</td>\n",
       "      <td>123.068353</td>\n",
       "      <td>11.521975</td>\n",
       "      <td>122.048871</td>\n",
       "      <td>14.576960</td>\n",
       "      <td>122.303741</td>\n",
       "      <td>20.177767</td>\n",
       "      <td>123.323224</td>\n",
       "      <td>34.434365</td>\n",
       "      <td>122.813483</td>\n",
       "      <td>132.193894</td>\n",
       "      <td>124.852448</td>\n",
       "      <td>268.140739</td>\n",
       "      <td>122.558612</td>\n",
       "      <td>240.391289</td>\n",
       "    </tr>\n",
       "    <tr>\n",
       "      <th>2</th>\n",
       "      <td>126.891413</td>\n",
       "      <td>11.012811</td>\n",
       "      <td>125.617059</td>\n",
       "      <td>14.576960</td>\n",
       "      <td>125.617059</td>\n",
       "      <td>14.322378</td>\n",
       "      <td>124.597577</td>\n",
       "      <td>23.232752</td>\n",
       "      <td>125.617059</td>\n",
       "      <td>43.853903</td>\n",
       "      <td>125.617059</td>\n",
       "      <td>138.303864</td>\n",
       "      <td>127.146283</td>\n",
       "      <td>273.486963</td>\n",
       "      <td>126.126801</td>\n",
       "      <td>244.210021</td>\n",
       "    </tr>\n",
       "    <tr>\n",
       "      <th>3</th>\n",
       "      <td>129.949860</td>\n",
       "      <td>12.794886</td>\n",
       "      <td>128.420636</td>\n",
       "      <td>14.322378</td>\n",
       "      <td>127.146283</td>\n",
       "      <td>27.560648</td>\n",
       "      <td>127.656024</td>\n",
       "      <td>28.324394</td>\n",
       "      <td>128.675507</td>\n",
       "      <td>52.764276</td>\n",
       "      <td>128.675507</td>\n",
       "      <td>145.177581</td>\n",
       "      <td>129.694990</td>\n",
       "      <td>280.106098</td>\n",
       "      <td>127.910895</td>\n",
       "      <td>251.338320</td>\n",
       "    </tr>\n",
       "    <tr>\n",
       "      <th>4</th>\n",
       "      <td>131.988825</td>\n",
       "      <td>18.141110</td>\n",
       "      <td>130.714472</td>\n",
       "      <td>17.631946</td>\n",
       "      <td>130.714472</td>\n",
       "      <td>26.542319</td>\n",
       "      <td>129.949860</td>\n",
       "      <td>37.998514</td>\n",
       "      <td>131.224213</td>\n",
       "      <td>59.128829</td>\n",
       "      <td>130.714472</td>\n",
       "      <td>151.032970</td>\n",
       "      <td>132.498566</td>\n",
       "      <td>284.943158</td>\n",
       "      <td>130.714472</td>\n",
       "      <td>255.411634</td>\n",
       "    </tr>\n",
       "    <tr>\n",
       "      <th>...</th>\n",
       "      <td>...</td>\n",
       "      <td>...</td>\n",
       "      <td>...</td>\n",
       "      <td>...</td>\n",
       "      <td>...</td>\n",
       "      <td>...</td>\n",
       "      <td>...</td>\n",
       "      <td>...</td>\n",
       "      <td>...</td>\n",
       "      <td>...</td>\n",
       "      <td>...</td>\n",
       "      <td>...</td>\n",
       "      <td>...</td>\n",
       "      <td>...</td>\n",
       "      <td>...</td>\n",
       "      <td>...</td>\n",
       "    </tr>\n",
       "    <tr>\n",
       "      <th>495</th>\n",
       "      <td>204.881825</td>\n",
       "      <td>238.609215</td>\n",
       "      <td>203.352601</td>\n",
       "      <td>240.645872</td>\n",
       "      <td>203.607472</td>\n",
       "      <td>252.611231</td>\n",
       "      <td>203.097731</td>\n",
       "      <td>259.484947</td>\n",
       "      <td>204.626955</td>\n",
       "      <td>278.833188</td>\n",
       "      <td>203.862343</td>\n",
       "      <td>332.295430</td>\n",
       "      <td>204.881825</td>\n",
       "      <td>450.676110</td>\n",
       "      <td>203.607472</td>\n",
       "      <td>406.633405</td>\n",
       "    </tr>\n",
       "    <tr>\n",
       "      <th>496</th>\n",
       "      <td>207.430532</td>\n",
       "      <td>246.755842</td>\n",
       "      <td>206.920790</td>\n",
       "      <td>247.265006</td>\n",
       "      <td>205.391567</td>\n",
       "      <td>258.212037</td>\n",
       "      <td>204.881825</td>\n",
       "      <td>267.122411</td>\n",
       "      <td>205.901308</td>\n",
       "      <td>284.179412</td>\n",
       "      <td>204.881825</td>\n",
       "      <td>339.423729</td>\n",
       "      <td>207.430532</td>\n",
       "      <td>456.531498</td>\n",
       "      <td>206.156178</td>\n",
       "      <td>412.488794</td>\n",
       "    </tr>\n",
       "    <tr>\n",
       "      <th>497</th>\n",
       "      <td>210.488979</td>\n",
       "      <td>253.884141</td>\n",
       "      <td>207.685402</td>\n",
       "      <td>255.157052</td>\n",
       "      <td>208.195143</td>\n",
       "      <td>266.613246</td>\n",
       "      <td>208.704885</td>\n",
       "      <td>273.232381</td>\n",
       "      <td>209.214626</td>\n",
       "      <td>292.071457</td>\n",
       "      <td>208.959755</td>\n",
       "      <td>344.515371</td>\n",
       "      <td>210.743850</td>\n",
       "      <td>462.641469</td>\n",
       "      <td>208.195143</td>\n",
       "      <td>416.816690</td>\n",
       "    </tr>\n",
       "    <tr>\n",
       "      <th>498</th>\n",
       "      <td>212.782815</td>\n",
       "      <td>261.521604</td>\n",
       "      <td>210.743850</td>\n",
       "      <td>261.776186</td>\n",
       "      <td>210.234108</td>\n",
       "      <td>273.996128</td>\n",
       "      <td>210.998720</td>\n",
       "      <td>280.615262</td>\n",
       "      <td>211.763332</td>\n",
       "      <td>297.926846</td>\n",
       "      <td>210.998720</td>\n",
       "      <td>350.370760</td>\n",
       "      <td>212.527944</td>\n",
       "      <td>468.242275</td>\n",
       "      <td>210.743850</td>\n",
       "      <td>423.944989</td>\n",
       "    </tr>\n",
       "    <tr>\n",
       "      <th>499</th>\n",
       "      <td>214.312039</td>\n",
       "      <td>268.395321</td>\n",
       "      <td>213.292556</td>\n",
       "      <td>269.413650</td>\n",
       "      <td>213.547427</td>\n",
       "      <td>280.360680</td>\n",
       "      <td>213.547427</td>\n",
       "      <td>286.470651</td>\n",
       "      <td>214.057168</td>\n",
       "      <td>306.073473</td>\n",
       "      <td>213.292556</td>\n",
       "      <td>356.226148</td>\n",
       "      <td>214.566909</td>\n",
       "      <td>474.861410</td>\n",
       "      <td>213.292556</td>\n",
       "      <td>427.763720</td>\n",
       "    </tr>\n",
       "  </tbody>\n",
       "</table>\n",
       "<p>500 rows × 16 columns</p>\n",
       "</div>"
      ],
      "text/plain": [
       "            0_x         0_y         1_x         1_y         2_x         2_y  \\\n",
       "0    122.303741    6.430333  120.774517    5.921169  120.774517    9.739900   \n",
       "1    124.597577    6.430333  123.068353   11.521975  122.048871   14.576960   \n",
       "2    126.891413   11.012811  125.617059   14.576960  125.617059   14.322378   \n",
       "3    129.949860   12.794886  128.420636   14.322378  127.146283   27.560648   \n",
       "4    131.988825   18.141110  130.714472   17.631946  130.714472   26.542319   \n",
       "..          ...         ...         ...         ...         ...         ...   \n",
       "495  204.881825  238.609215  203.352601  240.645872  203.607472  252.611231   \n",
       "496  207.430532  246.755842  206.920790  247.265006  205.391567  258.212037   \n",
       "497  210.488979  253.884141  207.685402  255.157052  208.195143  266.613246   \n",
       "498  212.782815  261.521604  210.743850  261.776186  210.234108  273.996128   \n",
       "499  214.312039  268.395321  213.292556  269.413650  213.547427  280.360680   \n",
       "\n",
       "            3_x         3_y         4_x         4_y         5_x         5_y  \\\n",
       "0    120.009906   13.304050  121.539129   31.379379  120.519647  123.538102   \n",
       "1    122.303741   20.177767  123.323224   34.434365  122.813483  132.193894   \n",
       "2    124.597577   23.232752  125.617059   43.853903  125.617059  138.303864   \n",
       "3    127.656024   28.324394  128.675507   52.764276  128.675507  145.177581   \n",
       "4    129.949860   37.998514  131.224213   59.128829  130.714472  151.032970   \n",
       "..          ...         ...         ...         ...         ...         ...   \n",
       "495  203.097731  259.484947  204.626955  278.833188  203.862343  332.295430   \n",
       "496  204.881825  267.122411  205.901308  284.179412  204.881825  339.423729   \n",
       "497  208.704885  273.232381  209.214626  292.071457  208.959755  344.515371   \n",
       "498  210.998720  280.615262  211.763332  297.926846  210.998720  350.370760   \n",
       "499  213.547427  286.470651  214.057168  306.073473  213.292556  356.226148   \n",
       "\n",
       "            6_x         6_y         7_x         7_y  \n",
       "0    122.558612  262.539933  121.539129  233.262990  \n",
       "1    124.852448  268.140739  122.558612  240.391289  \n",
       "2    127.146283  273.486963  126.126801  244.210021  \n",
       "3    129.694990  280.106098  127.910895  251.338320  \n",
       "4    132.498566  284.943158  130.714472  255.411634  \n",
       "..          ...         ...         ...         ...  \n",
       "495  204.881825  450.676110  203.607472  406.633405  \n",
       "496  207.430532  456.531498  206.156178  412.488794  \n",
       "497  210.743850  462.641469  208.195143  416.816690  \n",
       "498  212.527944  468.242275  210.743850  423.944989  \n",
       "499  214.566909  474.861410  213.292556  427.763720  \n",
       "\n",
       "[500 rows x 16 columns]"
      ]
     },
     "execution_count": 92,
     "metadata": {},
     "output_type": "execute_result"
    }
   ],
   "source": [
    "t1 = pd.read_csv('SQUID/data/tempdep_part1.csv')\n",
    "t2 = pd.read_csv('SQUID/data/tempdep_part2.csv')\n",
    "t3 = pd.read_csv('SQUID/data/tempdep_part3.csv')\n",
    "t1"
   ]
  },
  {
   "cell_type": "code",
   "execution_count": 93,
   "metadata": {},
   "outputs": [
    {
     "data": {
      "text/plain": [
       "Text(0, 0.5, 'Temperature [K]')"
      ]
     },
     "execution_count": 93,
     "metadata": {},
     "output_type": "execute_result"
    },
    {
     "data": {
      "image/png": "[encoded data removed]",
      "text/plain": [
       "<Figure size 252x189 with 1 Axes>"
      ]
     },
     "metadata": {
      "needs_background": "light"
     },
     "output_type": "display_data"
    }
   ],
   "source": [
    "voltages = [986, 985.8, 986.6, 985.7, 985.2, 984.8, 958, 959.5, 957, 940, 920, 890, 867, 843, 820, 777, 736,690,642,0]\n",
    "temps = temp(unp.uarray(voltages, 1.2)*1e-3)\n",
    "temps[-1]= calibr_temp[0]\n",
    "plt.scatter(range(len(temps)), unp.nominal_values(temps), label='measured temperatures')\n",
    "plt.xlabel('Measurement index')\n",
    "plt.ylabel('Temperature [K]')\n"
   ]
  },
  {
   "attachments": {},
   "cell_type": "markdown",
   "metadata": {},
   "source": [
    "### analysis"
   ]
  },
  {
   "cell_type": "code",
   "execution_count": 94,
   "metadata": {},
   "outputs": [
    {
     "data": {
      "image/png": "[encoded data removed]",
      "text/plain": [
       "<Figure size 252x189 with 1 Axes>"
      ]
     },
     "metadata": {
      "needs_background": "light"
     },
     "output_type": "display_data"
    }
   ],
   "source": [
    "plots = 20\n",
    "\n",
    "# part 1\n",
    "for i in range(8):\n",
    "    plt.plot(t1[f'{i}_x'], t1[f'{i}_y'], label=f'{temps[i]} K', c= mapcolors(plots)[i])\n",
    "\n",
    "# part 2\n",
    "for i in range(8):\n",
    "    plt.plot(t2[f'{i}_x'], t2[f'{i}_y'], label=f'{temps[i+8]} K', c= mapcolors(plots)[i+8])\n",
    "\n",
    "for i in range(3):\n",
    "    plt.plot(t3[f'{i}_x'], t3[f'{i}_y'], label=f'{temps[i+16]} K', c= mapcolors(plots)[i+16])\n",
    "\n",
    "plt.plot(room_temp['0_x'], room_temp['0_y'], label=f'{calibr_temp[0] } K', c= mapcolors(plots)[-1])\n",
    "\n",
    "plt.legend(bbox_to_anchor=(1.05, 1), loc='upper left', borderaxespad=0., ncol=2)\n",
    "\n",
    "i=7\n",
    "# plt.plot(t1[f'{i}_x'], t1[f'{i}_y'], label=f'{temps[i]} K', c= 'k')\n",
    "\n",
    "plt.xlabel('Current [uA]')\n",
    "plt.ylabel('Voltage [uV]')\n",
    "\n",
    "plt.savefig('SQUID/output/2-temperature-dependency.png', dpi=300)\n"
   ]
  },
  {
   "cell_type": "code",
   "execution_count": 95,
   "metadata": {},
   "outputs": [],
   "source": [
    "def linfit(x, a, b):\n",
    "    return a*x + b\n",
    "\n",
    "# create empty unumpy arrays\n",
    "resistances = unp.uarray(np.zeros(20), np.zeros(20))"
   ]
  },
  {
   "cell_type": "code",
   "execution_count": 96,
   "metadata": {},
   "outputs": [
    {
     "name": "stdout",
     "output_type": "stream",
     "text": [
      "87.6+/-0.7 K: 2.834+/-0.018 Ohm\n",
      "93.9+/-0.7 K: 2.800+/-0.018 Ohm\n",
      "101.4+/-0.7 K: 2.721+/-0.017 Ohm\n",
      "112.6+/-0.7 K: 2.680+/-0.017 Ohm\n",
      "121.2+/-0.6 K: 2.576+/-0.015 Ohm\n",
      "130.1+/-0.6 K: 2.241+/-0.008 Ohm\n",
      "138.7+/-0.6 K: 2.321+/-0.006 Ohm\n",
      "154.8+/-0.6 K: 2.135+/-0.006 Ohm\n"
     ]
    },
    {
     "data": {
      "text/plain": [
       "Text(0, 0.5, 'Voltage [uV]')"
      ]
     },
     "execution_count": 96,
     "metadata": {},
     "output_type": "execute_result"
    },
    {
     "data": {
      "image/png": "[encoded data removed]",
      "text/plain": [
       "<Figure size 252x189 with 1 Axes>"
      ]
     },
     "metadata": {
      "needs_background": "light"
     },
     "output_type": "display_data"
    }
   ],
   "source": [
    "#part 1 alt\n",
    "a,b = 10,130\n",
    "for i in range(8):\n",
    "    x,y = t1[f'{i}_x'][a:b], t1[f'{i}_y'][a:b]\n",
    "    plt.plot(x, y, label=f'{temps[i]} K')\n",
    "    c, cov = curve_fit(linfit, x, y)\n",
    "    resistance = un.ufloat(c[0], np.sqrt(cov[0,0]))\n",
    "    # resistances[i] = resistance\n",
    "    print(f'{temps[i+8]} K: {resistance} Ohm')\n",
    "\n",
    "\n",
    "plt.legend(bbox_to_anchor=(1.05, 1), loc='upper left', borderaxespad=0.)\n",
    "# plt.xlim(-10, 10)\n",
    "# plt.ylim(-50, 50)\n",
    "\n",
    "plt.xlabel('Current [uA]')\n",
    "plt.ylabel('Voltage [uV]')"
   ]
  },
  {
   "cell_type": "code",
   "execution_count": 97,
   "metadata": {},
   "outputs": [
    {
     "name": "stdout",
     "output_type": "stream",
     "text": [
      "76.8+/-0.7 K: 0.028+/-0.004 Ohm\n",
      "76.9+/-0.7 K: 0.037+/-0.004 Ohm\n",
      "76.6+/-0.7 K: 0.0421+/-0.0033 Ohm\n",
      "76.9+/-0.7 K: 0.039+/-0.004 Ohm\n",
      "77.1+/-0.7 K: 0.051+/-0.006 Ohm\n",
      "77.2+/-0.7 K: 0.122+/-0.006 Ohm\n"
     ]
    },
    {
     "data": {
      "image/png": "[encoded data removed]",
      "text/plain": [
       "<Figure size 252x189 with 1 Axes>"
      ]
     },
     "metadata": {
      "needs_background": "light"
     },
     "output_type": "display_data"
    }
   ],
   "source": [
    "# part 1 neue\n",
    "\n",
    "a,b = 165,198\n",
    "for i in range(6):\n",
    "    x,y = t1[f'{i}_x'][a:b] , t1[f'{i}_y'][a:b]\n",
    "    plt.plot(x, y, label=f'{temps[i+8]} K')\n",
    "    c, cov = curve_fit(linfit, x, y)\n",
    "    resistance = un.ufloat(c[0], np.sqrt(cov[0,0]))\n",
    "    # resistances[i+8] = resistance\n",
    "    print(f'{temps[i]} K: {resistance} Ohm')\n",
    "\n",
    "\n",
    "plt.legend(bbox_to_anchor=(1.05, 1), loc='upper left', borderaxespad=0.)\n",
    "plt.xlabel('Current [uA]')\n",
    "plt.ylabel('Voltage [uV]')\n",
    "\n",
    "plt.savefig('SQUID/output/2-low-temp-resistance.png', dpi=300)\n"
   ]
  },
  {
   "cell_type": "code",
   "execution_count": 98,
   "metadata": {},
   "outputs": [
    {
     "name": "stdout",
     "output_type": "stream",
     "text": [
      "14\n",
      "87.2+/-0.7 K: 2.039+/-0.014 Ohm\n",
      "86.7+/-0.7 K: 1.60+/-0.04 Ohm\n",
      "87.6+/-0.7 K: 9.176+/-0.035 Ohm\n",
      "93.9+/-0.7 K: 13.38+/-0.04 Ohm\n",
      "101.4+/-0.7 K: 14.25+/-0.04 Ohm\n",
      "112.6+/-0.7 K: 15.72+/-0.05 Ohm\n",
      "121.2+/-0.6 K: 17.00+/-0.05 Ohm\n",
      "130.1+/-0.6 K: 17.82+/-0.06 Ohm\n",
      "138.7+/-0.6 K: 18.83+/-0.06 Ohm\n",
      "154.8+/-0.6 K: 20.35+/-0.07 Ohm\n",
      "170.1+/-0.6 K: 22.25+/-0.07 Ohm\n",
      "187.2+/-0.6 K: 24.08+/-0.07 Ohm\n",
      "205.2+/-0.6 K: 25.79+/-0.13 Ohm\n",
      "294.3+/-0.4 K: 36.93+/-0.21 Ohm\n",
      "3.20+/-0.08\n"
     ]
    },
    {
     "data": {
      "image/png": "[encoded data removed]",
      "text/plain": [
       "<Figure size 252x189 with 1 Axes>"
      ]
     },
     "metadata": {
      "needs_background": "light"
     },
     "output_type": "display_data"
    }
   ],
   "source": [
    "a,b = 165,198\n",
    "# part 1 continued\n",
    "\n",
    "colors = mapcolors(len(temps)-6)\n",
    "print(len(colors))\n",
    "for i in range(6,8):\n",
    "    x,y = t1[f'{i}_x'][a:b] , t1[f'{i}_y'][a:b]\n",
    "    plt.plot(x, y, label=f'{temps[i]} K', c= colors[i-6])\n",
    "    c, cov = curve_fit(linfit, x, y)\n",
    "    resistance = un.ufloat(c[0], np.sqrt(cov[0,0]))\n",
    "    resistances[i] = resistance\n",
    "    print(f'{temps[i]} K: {resistance} Ohm')\n",
    "\n",
    "\n",
    "# part 2 + 3\n",
    "\n",
    "for i in range(8):\n",
    "    x,y = t2[f'{i}_x'][a:b] , t2[f'{i}_y'][a:b]\n",
    "    plt.plot(x, y, label=f'{temps[i+8]} K', c= colors[i+2])\n",
    "    c, cov = curve_fit(linfit, x, y)\n",
    "    resistance = un.ufloat(c[0], np.sqrt(cov[0,0]))\n",
    "    resistances[i+8] = resistance\n",
    "    print(f'{temps[i+8]} K: {resistance} Ohm')\n",
    "\n",
    "for i in range(3):\n",
    "    x,y = t3[f'{i}_x'][a:b] , t3[f'{i}_y'][a:b]\n",
    "    plt.plot(x, y, label=f'{temps[i+16]} K', c= colors[i+10])\n",
    "    c, cov = curve_fit(linfit, x, y)\n",
    "    resistance = un.ufloat(c[0], np.sqrt(cov[0,0]))\n",
    "    resistances[i+16] = resistance\n",
    "    print(f'{temps[i+16]} K: {resistance} Ohm')\n",
    "\n",
    "a,b = 448,478\n",
    "x,y = room_temp['0_x'][a:b] , room_temp['0_y'][a:b]\n",
    "plt.plot(x, y, label=f'{temps[-1]} K', c= colors[-1])\n",
    "c, cov = curve_fit(linfit, x, y)\n",
    "resistance = un.ufloat(c[0], np.sqrt(cov[0,0]))\n",
    "resistances[-1] = resistance\n",
    "print(f'{calibr_temp[0]} K: {resistance} Ohm')\n",
    "\n",
    "\n",
    "plt.legend(bbox_to_anchor=(1.05, 1), loc='upper left', borderaxespad=0.)\n",
    "plt.xlabel('Current [uA]')\n",
    "plt.ylabel('Voltage [uV]')\n",
    "\n",
    "normal_resistances = resistances[7]*2\n",
    "print(normal_resistances)\n",
    "\n",
    "plt.savefig('SQUID/output/2-higher-temp-resistance.png', dpi=300)\n"
   ]
  },
  {
   "cell_type": "code",
   "execution_count": 99,
   "metadata": {},
   "outputs": [
    {
     "data": {
      "text/plain": [
       "<matplotlib.legend.Legend at 0x7f6a0edc7af0>"
      ]
     },
     "execution_count": 99,
     "metadata": {},
     "output_type": "execute_result"
    },
    {
     "data": {
      "image/png": "[encoded data removed]",
      "text/plain": [
       "<Figure size 252x189 with 1 Axes>"
      ]
     },
     "metadata": {
      "needs_background": "light"
     },
     "output_type": "display_data"
    }
   ],
   "source": [
    "# part 2 + 3 second data interval\n",
    "a,b = 398,432\n",
    "for i in range(8):\n",
    "    plt.plot(t2[f'{i}_x'][a:b], t2[f'{i}_y'][a:b], label=f'{temps[i+8]} K')\n",
    "\n",
    "for i in range(2):\n",
    "    plt.plot(t3[f'{i}_x'][a:b], t3[f'{i}_y'][a:b], label=f'{temps[i+16]} K')\n",
    "\n",
    "\n",
    "\n",
    "plt.legend(bbox_to_anchor=(1.05, 1), loc='upper left', borderaxespad=0.)\n"
   ]
  },
  {
   "cell_type": "code",
   "execution_count": 100,
   "metadata": {},
   "outputs": [
    {
     "data": {
      "image/png": "[encoded data removed]",
      "text/plain": [
       "<Figure size 252x189 with 1 Axes>"
      ]
     },
     "metadata": {
      "needs_background": "light"
     },
     "output_type": "display_data"
    }
   ],
   "source": [
    "plt.errorbar(unp.nominal_values(temps), unp.nominal_values(resistances), xerr=unp.std_devs(temps), yerr=unp.std_devs(resistances), fmt='o',capsize=5, label='data')\n",
    "\n",
    "plt.xlabel('Temperature [K]')\n",
    "plt.ylabel('Resistance [Ohm]')\n",
    "\n",
    "plt.savefig('SQUID/output/2-resistance-temperature.png', dpi=300)\n"
   ]
  },
  {
   "cell_type": "code",
   "execution_count": 101,
   "metadata": {},
   "outputs": [
    {
     "data": {
      "image/png": "[encoded data removed]",
      "text/plain": [
       "<Figure size 252x189 with 1 Axes>"
      ]
     },
     "metadata": {
      "needs_background": "light"
     },
     "output_type": "display_data"
    }
   ],
   "source": [
    "lim = 14\n",
    "plt.errorbar(unp.nominal_values(temps[:lim]), unp.nominal_values(resistances[:lim]), xerr=unp.std_devs(temps)[:lim], yerr=unp.std_devs(resistances)[:lim], fmt='o',capsize=5, label='data')\n",
    "\n",
    "plt.xlabel('Temperature [K]')\n",
    "plt.ylabel('Resistance [Ohm]')\n",
    "\n",
    "plt.xlim(70,125)\n",
    "plt.axvline(x=92, c='r', label='literature value')\n",
    "\n",
    "xl = np.linspace(70,125)\n",
    "\n",
    "x = unp.nominal_values(temps[9:])\n",
    "y = unp.nominal_values(resistances[9:])\n",
    "c, cov = curve_fit(linfit,x,y, )\n",
    "param = unp.uarray(c, np.sqrt(np.diag(cov)))\n",
    "\n",
    "plt.plot(xl,linfit(xl,*c),label=r\"linear fit\", c='k', lw=1)\n",
    "\n",
    "plt.plot(xl,linfit(xl,*c)*.9,label=r\"90%\", c='k',ls='--',lw=1)\n",
    "plt.axvline(x=90.5, c='k',ls='--',lw=1)\n",
    "\n",
    "plt.plot(xl,linfit(xl,*c)*.1,label=r\"10%\", c='k',ls=':',lw=1)\n",
    "plt.axvline(x=86, c='k',ls=':',lw=1)\n",
    "\n",
    "\n",
    "plt.legend(bbox_to_anchor=(1.05, 1), loc='upper left', borderaxespad=0.1)\n",
    "# print(f\"{temps[7]-1} K\")\n",
    "# plt.grid()\n",
    "\n",
    "plt.savefig('SQUID/output/2-resistance-temperature-zoom.png', dpi=300)\n"
   ]
  },
  {
   "attachments": {},
   "cell_type": "markdown",
   "metadata": {},
   "source": [
    "## 3 Flux dependency"
   ]
  },
  {
   "attachments": {},
   "cell_type": "markdown",
   "metadata": {},
   "source": [
    "### load data"
   ]
  },
  {
   "cell_type": "code",
   "execution_count": 102,
   "metadata": {},
   "outputs": [
    {
     "data": {
      "text/plain": [
       "(      Sequence   VOLT   VOLT.1  0.01652000  0.0000002000000\n",
       " 0            0   15.2   0.0448         NaN              NaN\n",
       " 1            1   15.2   0.0464         NaN              NaN\n",
       " 2            2   14.8   0.0456         NaN              NaN\n",
       " 3            3   15.2   0.0488         NaN              NaN\n",
       " 4            4   14.8   0.0488         NaN              NaN\n",
       " ...        ...    ...      ...         ...              ...\n",
       " 1195      1195   15.2   0.0144         NaN              NaN\n",
       " 1196      1196   14.8   0.0128         NaN              NaN\n",
       " 1197      1197   15.2   0.0080         NaN              NaN\n",
       " 1198      1198   15.2   0.0064         NaN              NaN\n",
       " 1199      1199   14.8   0.0040         NaN              NaN\n",
       " \n",
       " [1200 rows x 5 columns],\n",
       "             0_x        0_y         1_x        1_y         2_x        2_y  \\\n",
       " 0    120.009906   9.230736  120.519647  13.049468  120.264776  11.012811   \n",
       " 1    121.029388   6.939497  119.755035   3.884512  120.009906   1.847855   \n",
       " 2    120.519647  11.267393  120.519647  13.813214  121.029388  11.521975   \n",
       " 3    121.029388   6.939497  120.519647   2.102437  120.519647   4.648258   \n",
       " 4    121.284259  13.304050  121.284259  12.540303  120.774517   8.466990   \n",
       " ..          ...        ...         ...        ...         ...        ...   \n",
       " 495  130.459601  19.668602  130.714472  19.159438  129.185248  14.576960   \n",
       " 496  130.714472  21.959841  130.714472   9.994482  129.694990  12.540303   \n",
       " 497  131.479084  22.723588  130.714472  14.067796  129.694990  13.304050   \n",
       " 498  131.988825  20.941513  131.733955   7.957826  130.459601  19.668602   \n",
       " 499  131.733955  19.668602  131.224213  15.340707  129.440119  11.776557   \n",
       " \n",
       "             3_x        3_y         4_x        4_y         5_x        5_y  \n",
       " 0    120.264776   9.485318  120.009906   8.466990  120.009906   7.448661  \n",
       " 1    119.755035   7.957826  120.519647   5.666587  118.990423   5.921169  \n",
       " 2    120.519647   7.957826  121.284259   9.485318  120.009906   8.212408  \n",
       " 3    120.519647   6.430333  121.029388   5.157422  119.245294   9.230736  \n",
       " 4    121.284259  11.267393  121.029388   9.739900  121.029388   8.976154  \n",
       " ..          ...        ...         ...        ...         ...        ...  \n",
       " 495  128.675507  19.668602  129.185248  16.359035  128.165766  12.031139  \n",
       " 496  129.440119   8.976154  129.949860  16.868199  128.675507  18.650274  \n",
       " 497  129.949860  19.159438  129.440119  14.576960  129.185248  12.540303  \n",
       " 498  129.694990  10.249065  130.714472  21.705259  128.930378  22.723588  \n",
       " 499  130.204731  17.886528  130.459601  13.558632  130.204731  13.304050  \n",
       " \n",
       " [500 rows x 12 columns])"
      ]
     },
     "execution_count": 102,
     "metadata": {},
     "output_type": "execute_result"
    }
   ],
   "source": [
    "flux1 = pd.read_csv('SQUID/data/V-Phi/11.01.2023 11.07.29_Trace.csv',skiprows=1)\n",
    "flux2 = pd.read_csv('SQUID/data/V-Phi/11.01.2023 11.08.24_Trace.csv',skiprows=1)\n",
    "flux3 = pd.read_csv('SQUID/data/V-Phi/11.01.2023 11.09.44_Trace.csv',skiprows=1)\n",
    "flux4 = pd.read_csv('SQUID/data/V-Phi/11.01.2023 11.09.47_Trace.csv',skiprows=1)\n",
    "flux5 = pd.read_csv('SQUID/data/V-Phi/11.01.2023 11.09.50_Trace.csv',skiprows=1)\n",
    "knee = pd.read_csv('SQUID/data/V-I/knee.csv')\n",
    "increment= 0.0000002 * 1e6 # step size in us \n",
    "flux4, knee"
   ]
  },
  {
   "attachments": {},
   "cell_type": "markdown",
   "metadata": {},
   "source": [
    "### analysis"
   ]
  },
  {
   "cell_type": "code",
   "execution_count": 103,
   "metadata": {},
   "outputs": [],
   "source": [
    "def sinfit(x, Delta_U, U_0, phi_s, phi_0):\n",
    "    return Delta_U*np.sin(2*np.pi*(x-phi_s)/phi_0) + U_0"
   ]
  },
  {
   "cell_type": "code",
   "execution_count": 104,
   "metadata": {},
   "outputs": [
    {
     "data": {
      "text/plain": [
       "<matplotlib.legend.Legend at 0x7f6a0e1c9c90>"
      ]
     },
     "execution_count": 104,
     "metadata": {},
     "output_type": "execute_result"
    },
    {
     "data": {
      "image/png": "[encoded data removed]",
      "text/plain": [
       "<Figure size 252x189 with 1 Axes>"
      ]
     },
     "metadata": {
      "needs_background": "light"
     },
     "output_type": "display_data"
    }
   ],
   "source": [
    "plt.plot(flux1['Sequence']*increment, flux1[' VOLT.1']*1e3, label='1')\n",
    "plt.plot(flux2['Sequence']*increment, flux2[' VOLT.1']*1e3, label='2')\n",
    "plt.plot(flux3['Sequence']*increment, flux3[' VOLT.1']*1e3, label='3')\n",
    "plt.plot(flux4['Sequence']*increment, flux4[' VOLT.1']*1e3, label='4')\n",
    "plt.plot(flux5['Sequence']*increment, flux5[' VOLT.1']*1e3, label='5')\n",
    "\n",
    "plt.xlabel('Time [$\\mu s$]')\n",
    "plt.ylabel('Voltage [mV]')\n",
    "\n",
    "plt.legend()"
   ]
  },
  {
   "cell_type": "code",
   "execution_count": 105,
   "metadata": {},
   "outputs": [
    {
     "name": "stdout",
     "output_type": "stream",
     "text": [
      "[38.98569971  5.6712316   1.1731034   1.41592513] [0.44661492 0.32376526 0.0039604  0.00227612]\n",
      "\\Delta U = 0.0780+/-0.0009 mV\n",
      "U_0 = (5.67+/-0.32)e+03 uV\n",
      "\\phi_s = 11.73+/-0.04 us\n",
      "\\phi_0 = 14.159+/-0.023 us\n"
     ]
    },
    {
     "data": {
      "image/png": "[encoded data removed]",
      "text/plain": [
       "<Figure size 252x189 with 1 Axes>"
      ]
     },
     "metadata": {
      "needs_background": "light"
     },
     "output_type": "display_data"
    }
   ],
   "source": [
    "cut = 600\n",
    "\n",
    "x = np.linspace(0, 6, 1000)\n",
    "# plt.plot(flux1['Sequence'], flux1[' VOLT.1'], label='1')\n",
    "# plt.plot(flux2['Sequence'], flux2[' VOLT.1'], label='2')\n",
    "# plt.plot(flux3['Sequence']*1e-3, flux3[' VOLT.1']*1e3, label='3')\n",
    "plt.plot(flux4['Sequence'][:cut]*increment, flux4[' VOLT.1'][:cut]*1e3, label='data')\n",
    "# plt.plot(flux5['Sequence']*1e-3, flux5[' VOLT.1']*1e3, label='5')\n",
    "\n",
    "c, cov = curve_fit(sinfit, flux4['Sequence'][:cut]*1e-2, flux4[' VOLT.1'][:cut]*1e3)\n",
    "perr=np.sqrt(np.diag(cov))\n",
    "plt.plot(x*increment*1e2, sinfit(x, *c) , label='fit',c='k')\n",
    "print(c, perr)\n",
    "Delta_U = 2*un.ufloat(c[0],perr[0])*1e-6 # in V\n",
    "print(f\"\\Delta U = {Delta_U*1e3} mV\")\n",
    "print(f\"U_0 = {un.ufloat(c[1],perr[1])*1e3} uV\")\n",
    "print(f\"\\phi_s = {un.ufloat(c[2],perr[2])*increment/2e-2} us\")\n",
    "phi_0 = un.ufloat(c[3],perr[3])*increment/2e-2 * 1e-6 # in s\n",
    "print(f\"\\phi_0 = {phi_0*1e6} us\")\n",
    "\n",
    "plt.xlabel('Time [$\\mu s$]')\n",
    "plt.ylabel('Voltage [$\\mu$V]')\n",
    "\n",
    "# plt.legend()\n",
    "\n",
    "plt.savefig('SQUID/output/3-flux-oscillation.png', dpi=300)\n"
   ]
  },
  {
   "cell_type": "code",
   "execution_count": 106,
   "metadata": {},
   "outputs": [
    {
     "data": {
      "text/plain": [
       "[<matplotlib.lines.Line2D at 0x7f6a0e44c070>]"
      ]
     },
     "execution_count": 106,
     "metadata": {},
     "output_type": "execute_result"
    },
    {
     "data": {
      "image/png": "[encoded data removed]",
      "text/plain": [
       "<Figure size 252x189 with 1 Axes>"
      ]
     },
     "metadata": {
      "needs_background": "light"
     },
     "output_type": "display_data"
    }
   ],
   "source": [
    "# plt.plot(flux4['Sequence'][:cut]*increment, flux4[' VOLT.1'][:cut], label='4')\n",
    "cut = 600\n",
    "plt.plot(flux4['Sequence'][:cut]*increment, flux4[' VOLT'][:cut], label='4')\n",
    "# plt.plot(flux4[' VOLT'][:cut]*increment, flux4[' VOLT.1'][:cut], label='4')"
   ]
  },
  {
   "cell_type": "code",
   "execution_count": 107,
   "metadata": {},
   "outputs": [
    {
     "name": "stderr",
     "output_type": "stream",
     "text": [
      "/home/emil/.local/lib/python3.10/site-packages/matplotlib/cbook/__init__.py:1298: ComplexWarning: Casting complex values to real discards the imaginary part\n",
      "  return np.asarray(x, float)\n"
     ]
    },
    {
     "data": {
      "text/plain": [
       "(0.0, 50.0)"
      ]
     },
     "execution_count": 107,
     "metadata": {},
     "output_type": "execute_result"
    },
    {
     "data": {
      "image/png": "[encoded data removed]",
      "text/plain": [
       "<Figure size 252x189 with 1 Axes>"
      ]
     },
     "metadata": {
      "needs_background": "light"
     },
     "output_type": "display_data"
    }
   ],
   "source": [
    "#fourier transform of the signal from flux4\n",
    "plt.plot(np.fft.fft(flux4[' VOLT.1']))\n",
    "plt.xlim(0,50)\n",
    "\n",
    "# find peaks "
   ]
  },
  {
   "cell_type": "code",
   "execution_count": 108,
   "metadata": {},
   "outputs": [
    {
     "data": {
      "text/plain": [
       "(0.0, 50.0)"
      ]
     },
     "execution_count": 108,
     "metadata": {},
     "output_type": "execute_result"
    },
    {
     "data": {
      "image/png": "[encoded data removed]",
      "text/plain": [
       "<Figure size 252x189 with 1 Axes>"
      ]
     },
     "metadata": {
      "needs_background": "light"
     },
     "output_type": "display_data"
    }
   ],
   "source": [
    "w= 15\n",
    "plt.plot(knee['0_x'].rolling(window=w).mean(), knee['0_y'].rolling(window=w).mean(), label='1',c=mapcolors(6)[0])\n",
    "plt.plot(knee['1_x'].rolling(window=w).mean(), knee['1_y'].rolling(window=w).mean(), label='2',c=mapcolors(6)[1])\n",
    "plt.plot(knee['2_x'].rolling(window=w).mean(), knee['2_y'].rolling(window=w).mean(), label='3',c=mapcolors(6)[2])\n",
    "plt.plot(knee['3_x'].rolling(window=w).mean(), knee['3_y'].rolling(window=w).mean(), label='4',c=mapcolors(6)[3])\n",
    "plt.plot(knee['4_x'].rolling(window=w).mean(), knee['4_y'].rolling(window=w).mean(), label='5',c=mapcolors(6)[4])\n",
    "plt.plot(knee['5_x'].rolling(window=w).mean(), knee['5_y'].rolling(window=w).mean(), label='6',c=mapcolors(6)[5])\n",
    "plt.xlim(110,145)\n",
    "plt.ylim(0,50)"
   ]
  },
  {
   "attachments": {},
   "cell_type": "markdown",
   "metadata": {},
   "source": [
    "#### $\\beta_L$ calculation"
   ]
  },
  {
   "cell_type": "code",
   "execution_count": 109,
   "metadata": {},
   "outputs": [
    {
     "name": "stdout",
     "output_type": "stream",
     "text": [
      "beta_L1 = 4.28+/-0.05\n",
      "beta_L2 v1 = 2.16+/-0.09\n"
     ]
    }
   ],
   "source": [
    "induction = 73e-12\n",
    "phi_0 = con.h/(2*con.elementary_charge)\n",
    "beta_L1 = 2*critical_current*induction/phi_0\n",
    "print(f\"beta_L1 = {beta_L1}\")\n",
    "\n",
    "beta_L2_1 = 4* critical_current*normal_resistances/(np.pi * Delta_U) -1\n",
    "print(f\"beta_L2 v1 = {beta_L2_1}\")\n",
    "\n",
    "# beta_L2_2 = 4* critical_current*res_n/(np.pi * Delta_U) -1\n",
    "# print(f\"beta_L2 v2 = {beta_L2_2}\")\n",
    "\n",
    "# beta_L3_1 = 4* critical_current*normal_resistances/(np.pi * Delta_U*1e-3) *(1-3.57*unp.sqrt(con.k*induction*calibr_temp[1])/phi_0) -1\n",
    "# print(f\"beta_L3 v1 = {beta_L3_1}\")\n",
    "\n",
    "# beta_L3_2 = 4* critical_current*res_n/(np.pi * Delta_U) *(1-3.57*unp.sqrt(con.k*induction*calibr_temp[1])/phi_0) -1\n",
    "# print(f\"beta_L3 v2 = {beta_L3_2}\")"
   ]
  },
  {
   "cell_type": "code",
   "execution_count": null,
   "metadata": {},
   "outputs": [],
   "source": []
  },
  {
   "attachments": {},
   "cell_type": "markdown",
   "metadata": {},
   "source": [
    "## 4 Flux quantum"
   ]
  },
  {
   "attachments": {},
   "cell_type": "markdown",
   "metadata": {},
   "source": [
    "### load data"
   ]
  },
  {
   "cell_type": "code",
   "execution_count": 110,
   "metadata": {},
   "outputs": [
    {
     "data": {
      "text/html": [
       "<div>\n",
       "<style scoped>\n",
       "    .dataframe tbody tr th:only-of-type {\n",
       "        vertical-align: middle;\n",
       "    }\n",
       "\n",
       "    .dataframe tbody tr th {\n",
       "        vertical-align: top;\n",
       "    }\n",
       "\n",
       "    .dataframe thead th {\n",
       "        text-align: right;\n",
       "    }\n",
       "</style>\n",
       "<table border=\"1\" class=\"dataframe\">\n",
       "  <thead>\n",
       "    <tr style=\"text-align: right;\">\n",
       "      <th></th>\n",
       "      <th>0_x</th>\n",
       "      <th>0_y</th>\n",
       "      <th>1_x</th>\n",
       "      <th>1_y</th>\n",
       "      <th>2_x</th>\n",
       "      <th>2_y</th>\n",
       "      <th>3_x</th>\n",
       "      <th>3_y</th>\n",
       "      <th>4_x</th>\n",
       "      <th>4_y</th>\n",
       "    </tr>\n",
       "  </thead>\n",
       "  <tbody>\n",
       "    <tr>\n",
       "      <th>0</th>\n",
       "      <td>122.303741</td>\n",
       "      <td>152.560462</td>\n",
       "      <td>121.539129</td>\n",
       "      <td>182.091987</td>\n",
       "      <td>120.009906</td>\n",
       "      <td>217.733482</td>\n",
       "      <td>121.539129</td>\n",
       "      <td>100.625713</td>\n",
       "      <td>121.794000</td>\n",
       "      <td>9.994482</td>\n",
       "    </tr>\n",
       "    <tr>\n",
       "      <th>1</th>\n",
       "      <td>124.087836</td>\n",
       "      <td>157.906687</td>\n",
       "      <td>124.852448</td>\n",
       "      <td>188.201957</td>\n",
       "      <td>123.578094</td>\n",
       "      <td>223.588870</td>\n",
       "      <td>123.832965</td>\n",
       "      <td>109.026922</td>\n",
       "      <td>124.852448</td>\n",
       "      <td>4.648258</td>\n",
       "    </tr>\n",
       "    <tr>\n",
       "      <th>2</th>\n",
       "      <td>127.146283</td>\n",
       "      <td>160.961672</td>\n",
       "      <td>127.146283</td>\n",
       "      <td>188.201957</td>\n",
       "      <td>125.362189</td>\n",
       "      <td>228.171348</td>\n",
       "      <td>126.891413</td>\n",
       "      <td>111.572743</td>\n",
       "      <td>127.401154</td>\n",
       "      <td>13.813214</td>\n",
       "    </tr>\n",
       "    <tr>\n",
       "      <th>3</th>\n",
       "      <td>129.440119</td>\n",
       "      <td>164.271239</td>\n",
       "      <td>130.204731</td>\n",
       "      <td>195.584839</td>\n",
       "      <td>127.910895</td>\n",
       "      <td>233.772155</td>\n",
       "      <td>129.440119</td>\n",
       "      <td>119.210206</td>\n",
       "      <td>129.185248</td>\n",
       "      <td>10.758229</td>\n",
       "    </tr>\n",
       "    <tr>\n",
       "      <th>4</th>\n",
       "      <td>131.988825</td>\n",
       "      <td>167.835389</td>\n",
       "      <td>132.243696</td>\n",
       "      <td>198.385242</td>\n",
       "      <td>131.479084</td>\n",
       "      <td>238.100050</td>\n",
       "      <td>131.988825</td>\n",
       "      <td>124.301849</td>\n",
       "      <td>132.753437</td>\n",
       "      <td>19.668602</td>\n",
       "    </tr>\n",
       "    <tr>\n",
       "      <th>...</th>\n",
       "      <td>...</td>\n",
       "      <td>...</td>\n",
       "      <td>...</td>\n",
       "      <td>...</td>\n",
       "      <td>...</td>\n",
       "      <td>...</td>\n",
       "      <td>...</td>\n",
       "      <td>...</td>\n",
       "      <td>...</td>\n",
       "      <td>...</td>\n",
       "    </tr>\n",
       "    <tr>\n",
       "      <th>495</th>\n",
       "      <td>204.626955</td>\n",
       "      <td>271.195724</td>\n",
       "      <td>205.136696</td>\n",
       "      <td>302.509324</td>\n",
       "      <td>203.607472</td>\n",
       "      <td>335.604998</td>\n",
       "      <td>205.136696</td>\n",
       "      <td>258.212037</td>\n",
       "      <td>204.372084</td>\n",
       "      <td>237.081722</td>\n",
       "    </tr>\n",
       "    <tr>\n",
       "      <th>496</th>\n",
       "      <td>207.430532</td>\n",
       "      <td>270.941142</td>\n",
       "      <td>206.411049</td>\n",
       "      <td>308.619294</td>\n",
       "      <td>206.156178</td>\n",
       "      <td>335.859580</td>\n",
       "      <td>207.175661</td>\n",
       "      <td>260.757858</td>\n",
       "      <td>207.685402</td>\n",
       "      <td>245.482932</td>\n",
       "    </tr>\n",
       "    <tr>\n",
       "      <th>497</th>\n",
       "      <td>209.214626</td>\n",
       "      <td>276.287367</td>\n",
       "      <td>209.724367</td>\n",
       "      <td>312.692608</td>\n",
       "      <td>207.940273</td>\n",
       "      <td>340.951222</td>\n",
       "      <td>209.724367</td>\n",
       "      <td>265.594918</td>\n",
       "      <td>209.214626</td>\n",
       "      <td>252.865813</td>\n",
       "    </tr>\n",
       "    <tr>\n",
       "      <th>498</th>\n",
       "      <td>212.782815</td>\n",
       "      <td>276.796531</td>\n",
       "      <td>212.273074</td>\n",
       "      <td>318.038832</td>\n",
       "      <td>211.253591</td>\n",
       "      <td>342.733297</td>\n",
       "      <td>213.037685</td>\n",
       "      <td>270.177396</td>\n",
       "      <td>212.527944</td>\n",
       "      <td>258.721201</td>\n",
       "    </tr>\n",
       "    <tr>\n",
       "      <th>499</th>\n",
       "      <td>214.566909</td>\n",
       "      <td>282.397337</td>\n",
       "      <td>214.821780</td>\n",
       "      <td>326.949206</td>\n",
       "      <td>214.057168</td>\n",
       "      <td>346.552028</td>\n",
       "      <td>214.312039</td>\n",
       "      <td>274.250710</td>\n",
       "      <td>214.312039</td>\n",
       "      <td>266.104082</td>\n",
       "    </tr>\n",
       "  </tbody>\n",
       "</table>\n",
       "<p>500 rows × 10 columns</p>\n",
       "</div>"
      ],
      "text/plain": [
       "            0_x         0_y         1_x         1_y         2_x         2_y  \\\n",
       "0    122.303741  152.560462  121.539129  182.091987  120.009906  217.733482   \n",
       "1    124.087836  157.906687  124.852448  188.201957  123.578094  223.588870   \n",
       "2    127.146283  160.961672  127.146283  188.201957  125.362189  228.171348   \n",
       "3    129.440119  164.271239  130.204731  195.584839  127.910895  233.772155   \n",
       "4    131.988825  167.835389  132.243696  198.385242  131.479084  238.100050   \n",
       "..          ...         ...         ...         ...         ...         ...   \n",
       "495  204.626955  271.195724  205.136696  302.509324  203.607472  335.604998   \n",
       "496  207.430532  270.941142  206.411049  308.619294  206.156178  335.859580   \n",
       "497  209.214626  276.287367  209.724367  312.692608  207.940273  340.951222   \n",
       "498  212.782815  276.796531  212.273074  318.038832  211.253591  342.733297   \n",
       "499  214.566909  282.397337  214.821780  326.949206  214.057168  346.552028   \n",
       "\n",
       "            3_x         3_y         4_x         4_y  \n",
       "0    121.539129  100.625713  121.794000    9.994482  \n",
       "1    123.832965  109.026922  124.852448    4.648258  \n",
       "2    126.891413  111.572743  127.401154   13.813214  \n",
       "3    129.440119  119.210206  129.185248   10.758229  \n",
       "4    131.988825  124.301849  132.753437   19.668602  \n",
       "..          ...         ...         ...         ...  \n",
       "495  205.136696  258.212037  204.372084  237.081722  \n",
       "496  207.175661  260.757858  207.685402  245.482932  \n",
       "497  209.724367  265.594918  209.214626  252.865813  \n",
       "498  213.037685  270.177396  212.527944  258.721201  \n",
       "499  214.312039  274.250710  214.312039  266.104082  \n",
       "\n",
       "[500 rows x 10 columns]"
      ]
     },
     "execution_count": 110,
     "metadata": {},
     "output_type": "execute_result"
    }
   ],
   "source": [
    "steps=pd.read_csv('SQUID/data/mw-ind-steps.csv')\n",
    "steps"
   ]
  },
  {
   "attachments": {},
   "cell_type": "markdown",
   "metadata": {},
   "source": [
    "### analysis"
   ]
  },
  {
   "cell_type": "code",
   "execution_count": 111,
   "metadata": {},
   "outputs": [
    {
     "name": "stdout",
     "output_type": "stream",
     "text": [
      "steps_lit = 9.09846893323249e-05\n"
     ]
    },
    {
     "data": {
      "image/png": "[encoded data removed]",
      "text/plain": [
       "<Figure size 252x189 with 1 Axes>"
      ]
     },
     "metadata": {
      "needs_background": "light"
     },
     "output_type": "display_data"
    }
   ],
   "source": [
    "steps_lit = con.h/(2*con.elementary_charge) * 44e9\n",
    "print(f\"steps_lit = {steps_lit}\")\n",
    "plt.plot(steps['0_x'], steps['0_y']*1e-6/steps_lit, label='1')\n",
    "plt.plot(steps['1_x'], steps['1_y']*1e-6/steps_lit, label='2')\n",
    "plt.plot(steps['2_x'], steps['2_y']*1e-6/steps_lit, label='3')\n",
    "plt.plot(steps['3_x'], steps['3_y']*1e-6/steps_lit, label='4')\n",
    "plt.plot(steps['4_x'], steps['4_y']*1e-6/steps_lit, label='5')\n",
    "\n",
    "plt.legend()\n",
    "plt.xlabel('time [ms]')\n",
    "plt.ylabel('steps (literature value)')\n",
    "\n",
    "plt.yticks(np.arange(-6, 6, step=1))\n",
    "\n",
    "plt.grid()\n",
    "\n"
   ]
  },
  {
   "cell_type": "code",
   "execution_count": 115,
   "metadata": {},
   "outputs": [
    {
     "data": {
      "image/png": "[encoded data removed]",
      "text/plain": [
       "<Figure size 252x189 with 1 Axes>"
      ]
     },
     "metadata": {
      "needs_background": "light"
     },
     "output_type": "display_data"
    }
   ],
   "source": [
    "plt.plot(np.abs(steps['0_x'])*1e-3, np.abs(steps['0_y']), label='1',lw=1)\n",
    "plt.plot(np.abs(steps['1_x'])*1e-3, np.abs(steps['1_y']), label='2',lw=1)\n",
    "plt.plot(np.abs(steps['2_x'])*1e-3, np.abs(steps['2_y']), label='3',lw=1)\n",
    "plt.plot(np.abs(steps['3_x'])*1e-3, np.abs(steps['3_y']), label='4',lw=1)\n",
    "# plt.plot(np.abs(steps['4_x'])*1e-3, np.abs(steps['4_y']), label='5',lw=1)\n",
    "\n",
    "plt.legend()\n",
    "plt.xlabel('Current [mA]')\n",
    "plt.ylabel('voltage [uV]')\n",
    "\n",
    "# print(steps_lit*1e9)\n",
    "plt.yticks(np.arange(0,500,step=50))\n",
    "\n",
    "plt.grid(which='major', axis='y')\n",
    "plt.grid(which='minor', alpha=0.5, axis='y')\n",
    "plt.minorticks_on()\n",
    "\n",
    "plt.savefig('SQUID/output/4-shapiro-steps.png')\n",
    "\n",
    "# plt.yticks(np.arange(0,500,step=1e6*steps_lit))\n",
    "\n",
    "# plt.savefig('SQUID/output/shapiro-steps-theo.pdf')\n"
   ]
  },
  {
   "cell_type": "code",
   "execution_count": 113,
   "metadata": {},
   "outputs": [
    {
     "data": {
      "text/plain": [
       "<matplotlib.collections.PathCollection at 0x7f6a40410670>"
      ]
     },
     "execution_count": 113,
     "metadata": {},
     "output_type": "execute_result"
    },
    {
     "data": {
      "image/png": "[encoded data removed]",
      "text/plain": [
       "<Figure size 252x189 with 1 Axes>"
      ]
     },
     "metadata": {
      "needs_background": "light"
     },
     "output_type": "display_data"
    }
   ],
   "source": [
    "v1 = unp.uarray([0.000288,\t0.00018,\t0.000173,\t0.00026],0.00001)\n",
    "v2 = unp.uarray([0.00036,\t0.00026,\t0.000091,\t0.00017],0.00001)\n",
    "shapiro_steps = np.abs(v1-v2)\n",
    "plt.scatter(range(len(v1)), unp.nominal_values(v1), label='1')\n",
    "plt.scatter(range(len(v2)), unp.nominal_values(v2), label='2')\n",
    "\n",
    "# plt.scatter(range(len(shapiro_steps)), unp.nominal_values(shapiro_steps), label='1')"
   ]
  },
  {
   "cell_type": "code",
   "execution_count": 114,
   "metadata": {},
   "outputs": [
    {
     "name": "stdout",
     "output_type": "stream",
     "text": [
      "(7.2+/-1.4)e-05\n",
      "(8.0+/-1.4)e-05\n",
      "(8.2+/-1.4)e-05\n",
      "(9.0+/-1.4)e-05\n",
      "h/e = (3.7+/-1.3)e-15\n",
      "h/e lit = 4.135667696923859e-15\n"
     ]
    }
   ],
   "source": [
    "n_step,u_step = 0,0\n",
    "\n",
    "for s in shapiro_steps:\n",
    "    n_step += unp.nominal_values(s)\n",
    "    u_step += unp.std_devs(s)**2\n",
    "    print(f\"{s}\")\n",
    "shapiro_step = un.ufloat(n_step/len(shapiro_steps),np.sqrt(u_step))\n",
    "print(f\"h/e = {shapiro_step/44e9*2}\")\n",
    "print(f\"h/e lit = {con.h/(con.elementary_charge)}\")"
   ]
  }
 ],
 "metadata": {
  "kernelspec": {
   "display_name": "Python 3",
   "language": "python",
   "name": "python3"
  },
  "language_info": {
   "codemirror_mode": {
    "name": "ipython",
    "version": 3
   },
   "file_extension": ".py",
   "mimetype": "text/x-python",
   "name": "python",
   "nbconvert_exporter": "python",
   "pygments_lexer": "ipython3",
   "version": "3.10.8"
  },
  "orig_nbformat": 4,
  "vscode": {
   "interpreter": {
    "hash": "e7370f93d1d0cde622a1f8e1c04877d8463912d04d973331ad4851f04de6915a"
   }
  }
 },
 "nbformat": 4,
 "nbformat_minor": 2
}
