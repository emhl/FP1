{
 "cells": [
  {
   "cell_type": "markdown",
   "id": "949b6d17-7010-4ceb-8627-e119596a9263",
   "metadata": {},
   "source": [
    "# Helium Neon Laser"
   ]
  },
  {
   "cell_type": "markdown",
   "id": "5a6cfa06-6cac-437a-88a4-08babd18a1c9",
   "metadata": {},
   "source": [
    "## initial imports"
   ]
  },
  {
   "cell_type": "code",
   "execution_count": 1,
   "id": "624124ba-540d-425c-b6a9-5bd1eaa608f5",
   "metadata": {},
   "outputs": [],
   "source": [
    "import numpy as np\n",
    "import matplotlib.pyplot as plt\n",
    "import pandas as pd\n",
    "from shapely.geometry import LineString as ls\n",
    "from scipy.optimize import curve_fit\n",
    "from scipy.signal import find_peaks,peak_widths\n",
    "import scipy.constants as con\n",
    "import uncertainties as un\n",
    "import csv\n",
    "import math"
   ]
  },
  {
   "cell_type": "code",
   "execution_count": 90,
   "id": "ad58075c-1de8-440e-aa27-7a085fad97fc",
   "metadata": {},
   "outputs": [],
   "source": [
    "# normalize\n",
    "def normalize(arr, t_min, t_max):\n",
    "    arr = arr.to_numpy()\n",
    "    norm_arr = []\n",
    "    diff = t_max - t_min\n",
    "    diff_arr = max(arr) - min(arr)   \n",
    "    for i in arr:\n",
    "        temp = (((i - min(arr))*diff)/diff_arr) + t_min\n",
    "        norm_arr.append(temp)\n",
    "    return norm_arr\n",
    "def simple_norm(arr):\n",
    "    arr = arr.to_numpy()\n",
    "    norm_arr = []\n",
    "    diff = 1\n",
    "    diff_arr = max(arr) - min(arr)   \n",
    "    for i in arr:\n",
    "        temp = (((i - min(arr))*diff)/diff_arr)\n",
    "        norm_arr.append(temp)\n",
    "    return norm_arr"
   ]
  },
  {
   "cell_type": "markdown",
   "id": "188b4a93-50e2-498f-930a-20d28131e185",
   "metadata": {
    "jp-MarkdownHeadingCollapsed": true,
    "tags": []
   },
   "source": [
    "## 2. Abhängigkeit der Ausgangsleistung von der Eingangsleistung"
   ]
  },
  {
   "cell_type": "markdown",
   "id": "e22caa8c-44b8-4e20-879f-5d254d181d6c",
   "metadata": {},
   "source": [
    "Durch Variation des Pumpstromes ist der optimale Arbeitsbereich des Lasers zu ermitteln. Das Ersetzten des Planspiegels durch den Auskoppelspiegel füh\n",
    "rt zu einer wesentlich höheren Ausgangsleistung und zu einer anderen Eingans-Ausgangsleistungs- Charakteristik. Die Hochspannung der Gasentladung beträgt 2.0 ± 0.1 kV."
   ]
  },
  {
   "cell_type": "markdown",
   "id": "d56f8137-9f5d-4d02-a025-7179ef8987b5",
   "metadata": {
    "jp-MarkdownHeadingCollapsed": true,
    "tags": []
   },
   "source": [
    "### load data"
   ]
  },
  {
   "cell_type": "code",
   "execution_count": 2,
   "id": "beadf6d0-7ba1-4e7d-85f0-56b363bc6aa5",
   "metadata": {},
   "outputs": [
    {
     "data": {
      "text/html": [
       "<div>\n",
       "<style scoped>\n",
       "    .dataframe tbody tr th:only-of-type {\n",
       "        vertical-align: middle;\n",
       "    }\n",
       "\n",
       "    .dataframe tbody tr th {\n",
       "        vertical-align: top;\n",
       "    }\n",
       "\n",
       "    .dataframe thead th {\n",
       "        text-align: right;\n",
       "    }\n",
       "</style>\n",
       "<table border=\"1\" class=\"dataframe\">\n",
       "  <thead>\n",
       "    <tr style=\"text-align: right;\">\n",
       "      <th></th>\n",
       "      <th>Stromstärke I in mA</th>\n",
       "      <th>uI (rechtecksverteilung)</th>\n",
       "      <th>Int Planar uW</th>\n",
       "      <th>uPp</th>\n",
       "      <th>int Auskopl in mW</th>\n",
       "      <th>uPa</th>\n",
       "      <th>int Auskopl2 in mW</th>\n",
       "      <th>uPa2</th>\n",
       "    </tr>\n",
       "  </thead>\n",
       "  <tbody>\n",
       "    <tr>\n",
       "      <th>0</th>\n",
       "      <td>5.0</td>\n",
       "      <td>0.086603</td>\n",
       "      <td>43.5</td>\n",
       "      <td>0.6</td>\n",
       "      <td>2.71</td>\n",
       "      <td>0.01</td>\n",
       "      <td>3.05</td>\n",
       "      <td>0.01</td>\n",
       "    </tr>\n",
       "    <tr>\n",
       "      <th>1</th>\n",
       "      <td>5.1</td>\n",
       "      <td>0.086603</td>\n",
       "      <td>44.2</td>\n",
       "      <td>0.6</td>\n",
       "      <td>2.72</td>\n",
       "      <td>0.01</td>\n",
       "      <td>3.10</td>\n",
       "      <td>0.01</td>\n",
       "    </tr>\n",
       "    <tr>\n",
       "      <th>2</th>\n",
       "      <td>5.2</td>\n",
       "      <td>0.086603</td>\n",
       "      <td>44.9</td>\n",
       "      <td>0.6</td>\n",
       "      <td>2.75</td>\n",
       "      <td>0.01</td>\n",
       "      <td>3.13</td>\n",
       "      <td>0.01</td>\n",
       "    </tr>\n",
       "    <tr>\n",
       "      <th>3</th>\n",
       "      <td>5.3</td>\n",
       "      <td>0.086603</td>\n",
       "      <td>45.6</td>\n",
       "      <td>0.6</td>\n",
       "      <td>2.76</td>\n",
       "      <td>0.01</td>\n",
       "      <td>3.16</td>\n",
       "      <td>0.01</td>\n",
       "    </tr>\n",
       "    <tr>\n",
       "      <th>4</th>\n",
       "      <td>5.4</td>\n",
       "      <td>0.086603</td>\n",
       "      <td>46.2</td>\n",
       "      <td>0.6</td>\n",
       "      <td>2.80</td>\n",
       "      <td>0.01</td>\n",
       "      <td>3.18</td>\n",
       "      <td>0.01</td>\n",
       "    </tr>\n",
       "    <tr>\n",
       "      <th>5</th>\n",
       "      <td>5.5</td>\n",
       "      <td>0.086603</td>\n",
       "      <td>46.8</td>\n",
       "      <td>0.6</td>\n",
       "      <td>2.81</td>\n",
       "      <td>0.01</td>\n",
       "      <td>3.19</td>\n",
       "      <td>0.01</td>\n",
       "    </tr>\n",
       "    <tr>\n",
       "      <th>6</th>\n",
       "      <td>5.6</td>\n",
       "      <td>0.086603</td>\n",
       "      <td>47.3</td>\n",
       "      <td>0.6</td>\n",
       "      <td>2.81</td>\n",
       "      <td>0.01</td>\n",
       "      <td>3.23</td>\n",
       "      <td>0.01</td>\n",
       "    </tr>\n",
       "    <tr>\n",
       "      <th>7</th>\n",
       "      <td>5.7</td>\n",
       "      <td>0.086603</td>\n",
       "      <td>47.7</td>\n",
       "      <td>0.6</td>\n",
       "      <td>2.84</td>\n",
       "      <td>0.01</td>\n",
       "      <td>3.24</td>\n",
       "      <td>0.01</td>\n",
       "    </tr>\n",
       "    <tr>\n",
       "      <th>8</th>\n",
       "      <td>5.8</td>\n",
       "      <td>0.086603</td>\n",
       "      <td>48.2</td>\n",
       "      <td>0.6</td>\n",
       "      <td>2.84</td>\n",
       "      <td>0.01</td>\n",
       "      <td>3.24</td>\n",
       "      <td>0.01</td>\n",
       "    </tr>\n",
       "    <tr>\n",
       "      <th>9</th>\n",
       "      <td>5.9</td>\n",
       "      <td>0.086603</td>\n",
       "      <td>48.8</td>\n",
       "      <td>0.6</td>\n",
       "      <td>2.84</td>\n",
       "      <td>0.01</td>\n",
       "      <td>3.25</td>\n",
       "      <td>0.01</td>\n",
       "    </tr>\n",
       "    <tr>\n",
       "      <th>10</th>\n",
       "      <td>6.0</td>\n",
       "      <td>0.086603</td>\n",
       "      <td>49.3</td>\n",
       "      <td>0.6</td>\n",
       "      <td>2.85</td>\n",
       "      <td>0.01</td>\n",
       "      <td>3.26</td>\n",
       "      <td>0.01</td>\n",
       "    </tr>\n",
       "    <tr>\n",
       "      <th>11</th>\n",
       "      <td>6.1</td>\n",
       "      <td>0.086603</td>\n",
       "      <td>50.0</td>\n",
       "      <td>0.6</td>\n",
       "      <td>2.87</td>\n",
       "      <td>0.01</td>\n",
       "      <td>3.27</td>\n",
       "      <td>0.01</td>\n",
       "    </tr>\n",
       "    <tr>\n",
       "      <th>12</th>\n",
       "      <td>6.2</td>\n",
       "      <td>0.086603</td>\n",
       "      <td>50.0</td>\n",
       "      <td>0.6</td>\n",
       "      <td>2.86</td>\n",
       "      <td>0.01</td>\n",
       "      <td>3.27</td>\n",
       "      <td>0.01</td>\n",
       "    </tr>\n",
       "    <tr>\n",
       "      <th>13</th>\n",
       "      <td>6.3</td>\n",
       "      <td>0.086603</td>\n",
       "      <td>50.4</td>\n",
       "      <td>0.6</td>\n",
       "      <td>2.88</td>\n",
       "      <td>0.01</td>\n",
       "      <td>3.27</td>\n",
       "      <td>0.01</td>\n",
       "    </tr>\n",
       "    <tr>\n",
       "      <th>14</th>\n",
       "      <td>6.4</td>\n",
       "      <td>0.086603</td>\n",
       "      <td>50.5</td>\n",
       "      <td>0.6</td>\n",
       "      <td>2.87</td>\n",
       "      <td>0.01</td>\n",
       "      <td>3.26</td>\n",
       "      <td>0.01</td>\n",
       "    </tr>\n",
       "    <tr>\n",
       "      <th>15</th>\n",
       "      <td>6.5</td>\n",
       "      <td>0.086603</td>\n",
       "      <td>50.8</td>\n",
       "      <td>0.6</td>\n",
       "      <td>2.89</td>\n",
       "      <td>0.01</td>\n",
       "      <td>3.26</td>\n",
       "      <td>0.01</td>\n",
       "    </tr>\n",
       "  </tbody>\n",
       "</table>\n",
       "</div>"
      ],
      "text/plain": [
       "    Stromstärke I in mA   uI (rechtecksverteilung)  Int Planar uW  uPp  \\\n",
       "0                    5.0                  0.086603           43.5  0.6   \n",
       "1                    5.1                  0.086603           44.2  0.6   \n",
       "2                    5.2                  0.086603           44.9  0.6   \n",
       "3                    5.3                  0.086603           45.6  0.6   \n",
       "4                    5.4                  0.086603           46.2  0.6   \n",
       "5                    5.5                  0.086603           46.8  0.6   \n",
       "6                    5.6                  0.086603           47.3  0.6   \n",
       "7                    5.7                  0.086603           47.7  0.6   \n",
       "8                    5.8                  0.086603           48.2  0.6   \n",
       "9                    5.9                  0.086603           48.8  0.6   \n",
       "10                   6.0                  0.086603           49.3  0.6   \n",
       "11                   6.1                  0.086603           50.0  0.6   \n",
       "12                   6.2                  0.086603           50.0  0.6   \n",
       "13                   6.3                  0.086603           50.4  0.6   \n",
       "14                   6.4                  0.086603           50.5  0.6   \n",
       "15                   6.5                  0.086603           50.8  0.6   \n",
       "\n",
       "    int Auskopl in mW   uPa  int Auskopl2 in mW  uPa2  \n",
       "0                2.71  0.01                3.05  0.01  \n",
       "1                2.72  0.01                3.10  0.01  \n",
       "2                2.75  0.01                3.13  0.01  \n",
       "3                2.76  0.01                3.16  0.01  \n",
       "4                2.80  0.01                3.18  0.01  \n",
       "5                2.81  0.01                3.19  0.01  \n",
       "6                2.81  0.01                3.23  0.01  \n",
       "7                2.84  0.01                3.24  0.01  \n",
       "8                2.84  0.01                3.24  0.01  \n",
       "9                2.84  0.01                3.25  0.01  \n",
       "10               2.85  0.01                3.26  0.01  \n",
       "11               2.87  0.01                3.27  0.01  \n",
       "12               2.86  0.01                3.27  0.01  \n",
       "13               2.88  0.01                3.27  0.01  \n",
       "14               2.87  0.01                3.26  0.01  \n",
       "15               2.89  0.01                3.26  0.01  "
      ]
     },
     "execution_count": 2,
     "metadata": {},
     "output_type": "execute_result"
    }
   ],
   "source": [
    "mr2 = pd.read_table(\"HeNe-Laser/data/HeNe-Laser - 2.2 Pumpleistung.tsv\",decimal=\",\")\n",
    "mr2"
   ]
  },
  {
   "cell_type": "code",
   "execution_count": 3,
   "id": "b5434e4c-f04e-463b-969e-db736a0e6454",
   "metadata": {},
   "outputs": [],
   "source": [
    "Ia = np.empty(0)\n",
    "for n,u in zip(mr2[\"Stromstärke I in mA \"],mr2[\"uI (rechtecksverteilung)\"]):\n",
    "    Ia = np.append(Ia,un.ufloat(n,u))\n",
    "V = un.ufloat(2,0.1)\n",
    "Pa = Ia * V\n",
    "uPa = np.empty(0)\n",
    "for x in Pa:\n",
    "    uPa = np.append(uPa,x.s)"
   ]
  },
  {
   "cell_type": "code",
   "execution_count": 4,
   "id": "d3401124-b9a5-4e81-8224-bf5089f61b73",
   "metadata": {},
   "outputs": [
    {
     "data": {
      "text/plain": [
       "(array([10.0+/-0.5291502622139368, 10.2+/-0.5386093203808101,\n",
       "        10.4+/-0.5480875842427724, 10.6+/-0.5575840743789928,\n",
       "        10.8+/-0.5670978751512635, 11.0+/-0.5766281297344746,\n",
       "        11.2+/-0.5861740355910333, 11.4+/-0.5957348403451641,\n",
       "        11.6+/-0.6053098380177527, 11.8+/-0.614898365586605,\n",
       "        12.0+/-0.624499799840703, 12.2+/-0.6341135545003577,\n",
       "        12.4+/-0.6437390775780807, 12.6+/-0.6533758489576104,\n",
       "        12.8+/-0.6630233781708442, 13.0+/-0.6726812023544869], dtype=object),\n",
       " array([0.52915026, 0.53860932, 0.54808758, 0.55758407, 0.56709788,\n",
       "        0.57662813, 0.58617404, 0.59573484, 0.60530984, 0.61489837,\n",
       "        0.6244998 , 0.63411355, 0.64373908, 0.65337585, 0.66302338,\n",
       "        0.6726812 ]))"
      ]
     },
     "execution_count": 4,
     "metadata": {},
     "output_type": "execute_result"
    }
   ],
   "source": [
    "Pa,uPa"
   ]
  },
  {
   "cell_type": "markdown",
   "id": "c6eb018a-9cd5-4f11-a3ca-ad7771bfce20",
   "metadata": {},
   "source": [
    "### plots"
   ]
  },
  {
   "cell_type": "code",
   "execution_count": 20,
   "id": "05e6ae90-3be3-4634-9f1b-931b1c1e78a4",
   "metadata": {},
   "outputs": [],
   "source": [
    "def lin_fit(x,m,c):\n",
    "    return m*x + c\n",
    "x1 = np.linspace(9.8,12.5,500)"
   ]
  },
  {
   "cell_type": "code",
   "execution_count": 23,
   "id": "97bd860c-af5d-4712-a43b-ac371407adb1",
   "metadata": {},
   "outputs": [
    {
     "name": "stdout",
     "output_type": "stream",
     "text": [
      "[3.4  9.52] [0.05773503 0.6006663 ]\n"
     ]
    },
    {
     "data": {
      "text/plain": [
       "Text(0, 0.5, 'Ausgangsleistung in $\\\\mu W$')"
      ]
     },
     "execution_count": 23,
     "metadata": {},
     "output_type": "execute_result"
    },
    {
     "data": {
      "image/png": "[encoded data removed]",
      "text/plain": [
       "<Figure size 432x288 with 1 Axes>"
      ]
     },
     "metadata": {
      "needs_background": "light"
     },
     "output_type": "display_data"
    }
   ],
   "source": [
    "# Planarspiegel\n",
    "x , y = mr2[\"Stromstärke I in mA \"]*2,mr2[\"Int Planar uW\"]\n",
    "plt.errorbar(x,y,xerr=uPa,yerr=mr2[\"uPp\"],fmt='o', capsize=5)\n",
    "\n",
    "c, cov = curve_fit(lin_fit,x[:5],y[:5])\n",
    "perr = np.sqrt(np.diag(cov))\n",
    "print(c,perr)\n",
    "y1 = lin_fit(x1, c[0], c[1])\n",
    "plt.plot(x1,y1,c='k')\n",
    "\n",
    "plt.xlabel(\"Eingangsleistung in $W$\")\n",
    "plt.ylabel(\"Ausgangsleistung in $\\mu W$\")"
   ]
  },
  {
   "cell_type": "code",
   "execution_count": 24,
   "id": "ced7b9fa-b645-4eee-9095-0421529453ad",
   "metadata": {},
   "outputs": [
    {
     "name": "stdout",
     "output_type": "stream",
     "text": [
      "[0.11  1.604] [0.01414214 0.14713262]\n"
     ]
    },
    {
     "data": {
      "text/plain": [
       "Text(0, 0.5, 'Ausgangsleistung in $mW$')"
      ]
     },
     "execution_count": 24,
     "metadata": {},
     "output_type": "execute_result"
    },
    {
     "data": {
      "image/png": "[encoded data removed]",
      "text/plain": [
       "<Figure size 432x288 with 1 Axes>"
      ]
     },
     "metadata": {
      "needs_background": "light"
     },
     "output_type": "display_data"
    }
   ],
   "source": [
    "# Auskoppelspiegel\n",
    "y = mr2[\"int Auskopl in mW\"]\n",
    "plt.errorbar(x,y,xerr=uPa,yerr=mr2[\"uPa\"],fmt='o', capsize=5)\n",
    "\n",
    "c, cov = curve_fit(lin_fit,x[:5],y[:5])\n",
    "perr = np.sqrt(np.diag(cov))\n",
    "print(c,perr)\n",
    "y1 = lin_fit(x1, c[0], c[1])\n",
    "plt.plot(x1,y1,c='k')\n",
    "\n",
    "plt.xlabel(\"Eingangsleistung in $W$\")\n",
    "plt.ylabel(\"Ausgangsleistung in $mW$\")"
   ]
  },
  {
   "cell_type": "code",
   "execution_count": 26,
   "id": "003ebd09-8f93-46ce-8c0b-3c940116ee4c",
   "metadata": {},
   "outputs": [
    {
     "name": "stdout",
     "output_type": "stream",
     "text": [
      "[0.16       1.46000002] [0.01527525 0.15892139]\n"
     ]
    },
    {
     "data": {
      "text/plain": [
       "Text(0, 0.5, 'Ausgangsleistung in $mW$')"
      ]
     },
     "execution_count": 26,
     "metadata": {},
     "output_type": "execute_result"
    },
    {
     "data": {
      "image/png": "[encoded data removed]",
      "text/plain": [
       "<Figure size 432x288 with 1 Axes>"
      ]
     },
     "metadata": {
      "needs_background": "light"
     },
     "output_type": "display_data"
    }
   ],
   "source": [
    "# Auskoppelspiegel versuch 2\n",
    "y = mr2[\"int Auskopl2 in mW\"]\n",
    "plt.errorbar(x,y,xerr=uPa,yerr=mr2[\"uPa2\"],fmt='o', capsize=5)\n",
    "\n",
    "c, cov = curve_fit(lin_fit,x[:5],y[:5])\n",
    "perr = np.sqrt(np.diag(cov))\n",
    "print(c,perr)\n",
    "y1 = lin_fit(x1, c[0], c[1])\n",
    "plt.plot(x1,y1,c='k')\n",
    "\n",
    "plt.xlabel(\"Eingangsleistung in $W$\")\n",
    "plt.ylabel(\"Ausgangsleistung in $mW$\")"
   ]
  },
  {
   "cell_type": "markdown",
   "id": "56be89e0-20c2-491e-b93d-0fbfe5e4e8ae",
   "metadata": {
    "jp-MarkdownHeadingCollapsed": true,
    "tags": []
   },
   "source": [
    "## 3. Abhängigkeit der Ausgangsleistung von der Röhrenposition"
   ]
  },
  {
   "cell_type": "markdown",
   "id": "4c7a314f-9e09-4664-97aa-184deb93f74f",
   "metadata": {
    "jp-MarkdownHeadingCollapsed": true,
    "tags": []
   },
   "source": [
    "### load data"
   ]
  },
  {
   "cell_type": "code",
   "execution_count": 8,
   "id": "36410fdc-3dd1-402f-a1bf-24e5154fb519",
   "metadata": {},
   "outputs": [
    {
     "data": {
      "text/html": [
       "<div>\n",
       "<style scoped>\n",
       "    .dataframe tbody tr th:only-of-type {\n",
       "        vertical-align: middle;\n",
       "    }\n",
       "\n",
       "    .dataframe tbody tr th {\n",
       "        vertical-align: top;\n",
       "    }\n",
       "\n",
       "    .dataframe thead th {\n",
       "        text-align: right;\n",
       "    }\n",
       "</style>\n",
       "<table border=\"1\" class=\"dataframe\">\n",
       "  <thead>\n",
       "    <tr style=\"text-align: right;\">\n",
       "      <th></th>\n",
       "      <th>Röhrenpos in cm</th>\n",
       "      <th>Ausgangsleistung P in mW</th>\n",
       "      <th>uP</th>\n",
       "    </tr>\n",
       "  </thead>\n",
       "  <tbody>\n",
       "    <tr>\n",
       "      <th>0</th>\n",
       "      <td>15</td>\n",
       "      <td>3.50</td>\n",
       "      <td>0.02</td>\n",
       "    </tr>\n",
       "    <tr>\n",
       "      <th>1</th>\n",
       "      <td>16</td>\n",
       "      <td>3.53</td>\n",
       "      <td>0.02</td>\n",
       "    </tr>\n",
       "    <tr>\n",
       "      <th>2</th>\n",
       "      <td>17</td>\n",
       "      <td>3.62</td>\n",
       "      <td>0.02</td>\n",
       "    </tr>\n",
       "    <tr>\n",
       "      <th>3</th>\n",
       "      <td>18</td>\n",
       "      <td>3.66</td>\n",
       "      <td>0.02</td>\n",
       "    </tr>\n",
       "    <tr>\n",
       "      <th>4</th>\n",
       "      <td>19</td>\n",
       "      <td>3.57</td>\n",
       "      <td>0.02</td>\n",
       "    </tr>\n",
       "    <tr>\n",
       "      <th>5</th>\n",
       "      <td>20</td>\n",
       "      <td>3.41</td>\n",
       "      <td>0.02</td>\n",
       "    </tr>\n",
       "    <tr>\n",
       "      <th>6</th>\n",
       "      <td>21</td>\n",
       "      <td>3.40</td>\n",
       "      <td>0.02</td>\n",
       "    </tr>\n",
       "    <tr>\n",
       "      <th>7</th>\n",
       "      <td>22</td>\n",
       "      <td>3.31</td>\n",
       "      <td>0.02</td>\n",
       "    </tr>\n",
       "    <tr>\n",
       "      <th>8</th>\n",
       "      <td>23</td>\n",
       "      <td>2.96</td>\n",
       "      <td>0.02</td>\n",
       "    </tr>\n",
       "    <tr>\n",
       "      <th>9</th>\n",
       "      <td>24</td>\n",
       "      <td>2.61</td>\n",
       "      <td>0.02</td>\n",
       "    </tr>\n",
       "    <tr>\n",
       "      <th>10</th>\n",
       "      <td>25</td>\n",
       "      <td>2.13</td>\n",
       "      <td>0.02</td>\n",
       "    </tr>\n",
       "  </tbody>\n",
       "</table>\n",
       "</div>"
      ],
      "text/plain": [
       "    Röhrenpos in cm  Ausgangsleistung P in mW    uP\n",
       "0                15                      3.50  0.02\n",
       "1                16                      3.53  0.02\n",
       "2                17                      3.62  0.02\n",
       "3                18                      3.66  0.02\n",
       "4                19                      3.57  0.02\n",
       "5                20                      3.41  0.02\n",
       "6                21                      3.40  0.02\n",
       "7                22                      3.31  0.02\n",
       "8                23                      2.96  0.02\n",
       "9                24                      2.61  0.02\n",
       "10               25                      2.13  0.02"
      ]
     },
     "execution_count": 8,
     "metadata": {},
     "output_type": "execute_result"
    }
   ],
   "source": [
    "mr3 = pd.read_table(\"HeNe-Laser/data/HeNe-Laser - 2.3 Röhrenposition.tsv\",decimal=\",\")\n",
    "mr3"
   ]
  },
  {
   "cell_type": "code",
   "execution_count": 30,
   "id": "5c8d7972-2a4c-4727-bcbd-77865a71cead",
   "metadata": {},
   "outputs": [
    {
     "data": {
      "text/plain": [
       "0.020412414523193152"
      ]
     },
     "execution_count": 30,
     "metadata": {},
     "output_type": "execute_result"
    }
   ],
   "source": [
    "uRpos = 0.1 / (2*np.sqrt(6))\n",
    "uRpos"
   ]
  },
  {
   "cell_type": "markdown",
   "id": "6ba79275-c0ac-4362-95b8-124f21c3a51b",
   "metadata": {},
   "source": [
    "### plots"
   ]
  },
  {
   "cell_type": "code",
   "execution_count": 31,
   "id": "b6794ce1-9614-4a7d-b618-f0f37909b060",
   "metadata": {},
   "outputs": [
    {
     "data": {
      "text/plain": [
       "Text(0, 0.5, 'Ausgangsleistung in $mW$')"
      ]
     },
     "execution_count": 31,
     "metadata": {},
     "output_type": "execute_result"
    },
    {
     "data": {
      "image/png": "[encoded data removed]",
      "text/plain": [
       "<Figure size 432x288 with 1 Axes>"
      ]
     },
     "metadata": {
      "needs_background": "light"
     },
     "output_type": "display_data"
    }
   ],
   "source": [
    "x,y = mr3[\"Röhrenpos in cm\"],mr3[\"Ausgangsleistung P in mW\"]\n",
    "plt.errorbar(x,y,xerr=uRpos,yerr=mr3[\"uP\"],fmt='o', capsize=5)\n",
    "\n",
    "plt.xlabel(\"Röhrenposition in cm\")\n",
    "plt.ylabel(\"Ausgangsleistung in $mW$\")"
   ]
  },
  {
   "cell_type": "markdown",
   "id": "48e0b8bd-7958-4875-9ba4-9dccdf471e83",
   "metadata": {
    "jp-MarkdownHeadingCollapsed": true,
    "tags": []
   },
   "source": [
    "## 4. Stabilität des Resonators"
   ]
  },
  {
   "cell_type": "markdown",
   "id": "10937830-5f46-4201-bfd4-33ac15e6321f",
   "metadata": {
    "tags": []
   },
   "source": [
    "### load data"
   ]
  },
  {
   "cell_type": "code",
   "execution_count": 9,
   "id": "26bbea1e-0dc8-4cfe-b981-b6ceb8935df4",
   "metadata": {},
   "outputs": [
    {
     "data": {
      "text/html": [
       "<div>\n",
       "<style scoped>\n",
       "    .dataframe tbody tr th:only-of-type {\n",
       "        vertical-align: middle;\n",
       "    }\n",
       "\n",
       "    .dataframe tbody tr th {\n",
       "        vertical-align: top;\n",
       "    }\n",
       "\n",
       "    .dataframe thead th {\n",
       "        text-align: right;\n",
       "    }\n",
       "</style>\n",
       "<table border=\"1\" class=\"dataframe\">\n",
       "  <thead>\n",
       "    <tr style=\"text-align: right;\">\n",
       "      <th></th>\n",
       "      <th>d1 in cm</th>\n",
       "      <th>P1 in uW</th>\n",
       "      <th>uP1</th>\n",
       "      <th>d2 in cm</th>\n",
       "      <th>P2 in uW</th>\n",
       "      <th>uP2</th>\n",
       "      <th>d3 in cm</th>\n",
       "      <th>P3 in uW</th>\n",
       "      <th>uP3</th>\n",
       "      <th>P3 eich</th>\n",
       "    </tr>\n",
       "  </thead>\n",
       "  <tbody>\n",
       "    <tr>\n",
       "      <th>0</th>\n",
       "      <td>55.0</td>\n",
       "      <td>77.0</td>\n",
       "      <td>0.6</td>\n",
       "      <td>55</td>\n",
       "      <td>101.0</td>\n",
       "      <td>0.6</td>\n",
       "      <td>55.0</td>\n",
       "      <td>8.30</td>\n",
       "      <td>0.8</td>\n",
       "      <td>1.63</td>\n",
       "    </tr>\n",
       "    <tr>\n",
       "      <th>1</th>\n",
       "      <td>60.0</td>\n",
       "      <td>69.0</td>\n",
       "      <td>0.6</td>\n",
       "      <td>60</td>\n",
       "      <td>99.0</td>\n",
       "      <td>0.6</td>\n",
       "      <td>60.0</td>\n",
       "      <td>7.10</td>\n",
       "      <td>0.8</td>\n",
       "      <td>0.43</td>\n",
       "    </tr>\n",
       "    <tr>\n",
       "      <th>2</th>\n",
       "      <td>65.0</td>\n",
       "      <td>48.1</td>\n",
       "      <td>0.6</td>\n",
       "      <td>65</td>\n",
       "      <td>95.2</td>\n",
       "      <td>0.6</td>\n",
       "      <td>65.0</td>\n",
       "      <td>7.04</td>\n",
       "      <td>0.8</td>\n",
       "      <td>0.37</td>\n",
       "    </tr>\n",
       "    <tr>\n",
       "      <th>3</th>\n",
       "      <td>67.0</td>\n",
       "      <td>40.5</td>\n",
       "      <td>0.6</td>\n",
       "      <td>70</td>\n",
       "      <td>92.7</td>\n",
       "      <td>0.6</td>\n",
       "      <td>67.0</td>\n",
       "      <td>6.90</td>\n",
       "      <td>0.8</td>\n",
       "      <td>0.23</td>\n",
       "    </tr>\n",
       "    <tr>\n",
       "      <th>4</th>\n",
       "      <td>69.0</td>\n",
       "      <td>24.1</td>\n",
       "      <td>0.6</td>\n",
       "      <td>75</td>\n",
       "      <td>75.8</td>\n",
       "      <td>0.6</td>\n",
       "      <td>67.5</td>\n",
       "      <td>6.80</td>\n",
       "      <td>0.8</td>\n",
       "      <td>0.13</td>\n",
       "    </tr>\n",
       "    <tr>\n",
       "      <th>5</th>\n",
       "      <td>70.0</td>\n",
       "      <td>23.4</td>\n",
       "      <td>0.6</td>\n",
       "      <td>77</td>\n",
       "      <td>56.7</td>\n",
       "      <td>0.6</td>\n",
       "      <td>68.0</td>\n",
       "      <td>6.67</td>\n",
       "      <td>0.8</td>\n",
       "      <td>0.00</td>\n",
       "    </tr>\n",
       "    <tr>\n",
       "      <th>6</th>\n",
       "      <td>71.0</td>\n",
       "      <td>15.5</td>\n",
       "      <td>0.6</td>\n",
       "      <td>79</td>\n",
       "      <td>29.6</td>\n",
       "      <td>0.6</td>\n",
       "      <td>NaN</td>\n",
       "      <td>NaN</td>\n",
       "      <td>NaN</td>\n",
       "      <td>NaN</td>\n",
       "    </tr>\n",
       "    <tr>\n",
       "      <th>7</th>\n",
       "      <td>72.0</td>\n",
       "      <td>4.2</td>\n",
       "      <td>0.6</td>\n",
       "      <td>81</td>\n",
       "      <td>18.2</td>\n",
       "      <td>0.6</td>\n",
       "      <td>NaN</td>\n",
       "      <td>NaN</td>\n",
       "      <td>NaN</td>\n",
       "      <td>NaN</td>\n",
       "    </tr>\n",
       "    <tr>\n",
       "      <th>8</th>\n",
       "      <td>72.5</td>\n",
       "      <td>0.0</td>\n",
       "      <td>0.6</td>\n",
       "      <td>82</td>\n",
       "      <td>9.4</td>\n",
       "      <td>0.6</td>\n",
       "      <td>NaN</td>\n",
       "      <td>NaN</td>\n",
       "      <td>NaN</td>\n",
       "      <td>NaN</td>\n",
       "    </tr>\n",
       "    <tr>\n",
       "      <th>9</th>\n",
       "      <td>NaN</td>\n",
       "      <td>NaN</td>\n",
       "      <td>NaN</td>\n",
       "      <td>83</td>\n",
       "      <td>0.0</td>\n",
       "      <td>0.6</td>\n",
       "      <td>NaN</td>\n",
       "      <td>NaN</td>\n",
       "      <td>NaN</td>\n",
       "      <td>NaN</td>\n",
       "    </tr>\n",
       "  </tbody>\n",
       "</table>\n",
       "</div>"
      ],
      "text/plain": [
       "   d1 in cm   P1 in uW  uP1  d2 in cm   P2 in uW  uP2  d3 in cm   P3 in uW  \\\n",
       "0      55.0       77.0  0.6        55      101.0  0.6      55.0       8.30   \n",
       "1      60.0       69.0  0.6        60       99.0  0.6      60.0       7.10   \n",
       "2      65.0       48.1  0.6        65       95.2  0.6      65.0       7.04   \n",
       "3      67.0       40.5  0.6        70       92.7  0.6      67.0       6.90   \n",
       "4      69.0       24.1  0.6        75       75.8  0.6      67.5       6.80   \n",
       "5      70.0       23.4  0.6        77       56.7  0.6      68.0       6.67   \n",
       "6      71.0       15.5  0.6        79       29.6  0.6       NaN        NaN   \n",
       "7      72.0        4.2  0.6        81       18.2  0.6       NaN        NaN   \n",
       "8      72.5        0.0  0.6        82        9.4  0.6       NaN        NaN   \n",
       "9       NaN        NaN  NaN        83        0.0  0.6       NaN        NaN   \n",
       "\n",
       "   uP3  P3 eich  \n",
       "0  0.8     1.63  \n",
       "1  0.8     0.43  \n",
       "2  0.8     0.37  \n",
       "3  0.8     0.23  \n",
       "4  0.8     0.13  \n",
       "5  0.8     0.00  \n",
       "6  NaN      NaN  \n",
       "7  NaN      NaN  \n",
       "8  NaN      NaN  \n",
       "9  NaN      NaN  "
      ]
     },
     "execution_count": 9,
     "metadata": {},
     "output_type": "execute_result"
    }
   ],
   "source": [
    "mr4 = pd.read_table(\"HeNe-Laser/data/HeNe-Laser - 2.4 Stabilität.tsv\",decimal=\",\")\n",
    "mr4"
   ]
  },
  {
   "cell_type": "code",
   "execution_count": 34,
   "id": "7f97f74b-6aa1-446e-aca5-4ff279dfcea2",
   "metadata": {},
   "outputs": [],
   "source": [
    "ud = uRpos*np.sqrt(2)"
   ]
  },
  {
   "cell_type": "markdown",
   "id": "cadc4888-d8c0-4147-a504-11e9ce3febe8",
   "metadata": {},
   "source": [
    "### plots"
   ]
  },
  {
   "cell_type": "code",
   "execution_count": 40,
   "id": "92423ba9-cd43-45cb-9985-25d66bff9d24",
   "metadata": {},
   "outputs": [
    {
     "name": "stderr",
     "output_type": "stream",
     "text": [
      "/opt/conda/lib/python3.10/site-packages/numpy/core/_methods.py:44: RuntimeWarning: invalid value encountered in reduce\n",
      "  return umr_minimum(a, axis, None, out, keepdims, initial, where)\n",
      "/opt/conda/lib/python3.10/site-packages/numpy/core/_methods.py:40: RuntimeWarning: invalid value encountered in reduce\n",
      "  return umr_maximum(a, axis, None, out, keepdims, initial, where)\n"
     ]
    },
    {
     "data": {
      "text/plain": [
       "Text(0, 0.5, 'Ausgangsleistung in $\\\\mu W$')"
      ]
     },
     "execution_count": 40,
     "metadata": {},
     "output_type": "execute_result"
    },
    {
     "data": {
      "image/png": "[encoded data removed]",
      "text/plain": [
       "<Figure size 432x288 with 1 Axes>"
      ]
     },
     "metadata": {
      "needs_background": "light"
     },
     "output_type": "display_data"
    }
   ],
   "source": [
    "# R700/Plane\n",
    "x,y = mr4[\"d1 in cm\"]-2.9,mr4[\" P1 in uW\"]\n",
    "plt.errorbar(x,y,xerr=ud,yerr=mr4[\"uP1\"],fmt='o', capsize=5)\n",
    "\n",
    "plt.xlabel(\"Resomatorlänge in cm\")\n",
    "plt.ylabel(\"Ausgangsleistung in $\\mu W$\")"
   ]
  },
  {
   "cell_type": "code",
   "execution_count": 41,
   "id": "5ddc28e4-d3f8-4476-aa93-ad9eb9418cfe",
   "metadata": {},
   "outputs": [
    {
     "data": {
      "text/plain": [
       "Text(0, 0.5, 'Ausgangsleistung in $\\\\mu W$')"
      ]
     },
     "execution_count": 41,
     "metadata": {},
     "output_type": "execute_result"
    },
    {
     "data": {
      "image/png": "[encoded data removed]",
      "text/plain": [
       "<Figure size 432x288 with 1 Axes>"
      ]
     },
     "metadata": {
      "needs_background": "light"
     },
     "output_type": "display_data"
    }
   ],
   "source": [
    "# R850/Plane\n",
    "x,y = mr4[\"d2 in cm\"]-2.9,mr4[\" P2 in uW\"]\n",
    "plt.errorbar(x,y,xerr=ud,yerr=mr4[\"uP2\"],fmt='o', capsize=5)\n",
    "\n",
    "plt.xlabel(\"Resomatorlänge in cm\")\n",
    "plt.ylabel(\"Ausgangsleistung in $\\mu W$\")"
   ]
  },
  {
   "cell_type": "code",
   "execution_count": 47,
   "id": "161099d5-94bd-4758-adb8-6bc77d5224a1",
   "metadata": {},
   "outputs": [
    {
     "data": {
      "text/plain": [
       "Text(0, 0.5, 'Ausgangsleistung in $\\\\mu W$')"
      ]
     },
     "execution_count": 47,
     "metadata": {},
     "output_type": "execute_result"
    },
    {
     "data": {
      "image/png": "[encoded data removed]",
      "text/plain": [
       "<Figure size 432x288 with 1 Axes>"
      ]
     },
     "metadata": {
      "needs_background": "light"
     },
     "output_type": "display_data"
    }
   ],
   "source": [
    "# R700/R850\n",
    "x,y = mr4[\"d3 in cm\"]-2.9,mr4[\"P3 eich\"]\n",
    "plt.errorbar(x,y,xerr=ud,yerr=mr4[\"uP3\"],fmt='o', capsize=5)\n",
    "\n",
    "plt.xlabel(\"Resomatorlänge in cm\")\n",
    "plt.ylabel(\"Ausgangsleistung in $\\mu W$\")"
   ]
  },
  {
   "cell_type": "markdown",
   "id": "ab943b91-9723-4aa7-a5a0-aef8ae9e4e11",
   "metadata": {},
   "source": [
    "## 5. Wellenlängenselektion"
   ]
  },
  {
   "cell_type": "markdown",
   "id": "ac5f9f49-7b61-448a-a938-da082b1f0567",
   "metadata": {
    "jp-MarkdownHeadingCollapsed": true,
    "tags": []
   },
   "source": [
    "### load data"
   ]
  },
  {
   "cell_type": "code",
   "execution_count": 86,
   "id": "3e547abf-8083-40c9-8931-0ea823135771",
   "metadata": {},
   "outputs": [
    {
     "name": "stderr",
     "output_type": "stream",
     "text": [
      "/tmp/ipykernel_1548483/1955255048.py:1: ParserWarning: Falling back to the 'python' engine because the 'c' engine does not support skipfooter; you can avoid this warning by specifying engine='python'.\n",
      "  db_633 = pd.read_table(\"HeNe-Laser/data/633er-mode-db.txt\",decimal=\",\",skipfooter=1,skiprows=17,encoding='latin_1',header=None)\n",
      "/tmp/ipykernel_1548483/1955255048.py:2: ParserWarning: Falling back to the 'python' engine because the 'c' engine does not support skipfooter; you can avoid this warning by specifying engine='python'.\n",
      "  lt_633 = pd.read_table(\"HeNe-Laser/data/633er-mode-littow.txt\",decimal=\",\",skipfooter=1,skiprows=17,encoding='latin_1',header=None)\n",
      "/tmp/ipykernel_1548483/1955255048.py:3: ParserWarning: Falling back to the 'python' engine because the 'c' engine does not support skipfooter; you can avoid this warning by specifying engine='python'.\n",
      "  lt_640 = pd.read_table(\"HeNe-Laser/data/640er-mode-littow.txt\",decimal=\",\",skipfooter=1,skiprows=17,encoding='latin_1',header=None)\n",
      "/tmp/ipykernel_1548483/1955255048.py:4: ParserWarning: Falling back to the 'python' engine because the 'c' engine does not support skipfooter; you can avoid this warning by specifying engine='python'.\n",
      "  lt_beide = pd.read_table(\"HeNe-Laser/data/beide-moden-littow.txt\",decimal=\",\",skipfooter=1,skiprows=17,encoding='latin_1',header=None)\n"
     ]
    }
   ],
   "source": [
    "db_633 = pd.read_table(\"HeNe-Laser/data/633er-mode-db.txt\",decimal=\",\",skipfooter=1,skiprows=17,encoding='latin_1',header=None)\n",
    "lt_633 = pd.read_table(\"HeNe-Laser/data/633er-mode-littow.txt\",decimal=\",\",skipfooter=1,skiprows=17,encoding='latin_1',header=None)\n",
    "lt_640 = pd.read_table(\"HeNe-Laser/data/640er-mode-littow.txt\",decimal=\",\",skipfooter=1,skiprows=17,encoding='latin_1',header=None)\n",
    "lt_beide = pd.read_table(\"HeNe-Laser/data/beide-moden-littow.txt\",decimal=\",\",skipfooter=1,skiprows=17,encoding='latin_1',header=None)\n"
   ]
  },
  {
   "cell_type": "code",
   "execution_count": 88,
   "id": "bc42fbb1-1d9b-4e63-8e9b-69d46e79d97d",
   "metadata": {},
   "outputs": [
    {
     "name": "stderr",
     "output_type": "stream",
     "text": [
      "/tmp/ipykernel_1548483/1349538544.py:1: ParserWarning: Falling back to the 'python' engine because the 'c' engine does not support skipfooter; you can avoid this warning by specifying engine='python'.\n",
      "  fl_ohne = pd.read_table(\"HeNe-Laser/data/beide-moden-littow.txt\",decimal=\",\",skipfooter=1,skiprows=17,encoding='latin_1',header=None)\n",
      "/tmp/ipykernel_1548483/1349538544.py:2: ParserWarning: Falling back to the 'python' engine because the 'c' engine does not support skipfooter; you can avoid this warning by specifying engine='python'.\n",
      "  fl_db_633 = pd.read_table(\"HeNe-Laser/data/fluoreszenz-db-633.txt\",decimal=\",\",skipfooter=1,skiprows=17,encoding='latin_1',header=None)\n",
      "/tmp/ipykernel_1548483/1349538544.py:3: ParserWarning: Falling back to the 'python' engine because the 'c' engine does not support skipfooter; you can avoid this warning by specifying engine='python'.\n",
      "  fl_lt_633 = pd.read_table(\"HeNe-Laser/data/fluoreszenz-littow-633.txt\",decimal=\",\",skipfooter=1,skiprows=17,encoding='latin_1',header=None)\n",
      "/tmp/ipykernel_1548483/1349538544.py:4: ParserWarning: Falling back to the 'python' engine because the 'c' engine does not support skipfooter; you can avoid this warning by specifying engine='python'.\n",
      "  fl_lt_beide = pd.read_table(\"HeNe-Laser/data/fluoreszenz-littow-633.txt\",decimal=\",\",skipfooter=1,skiprows=17,encoding='latin_1',header=None)\n"
     ]
    }
   ],
   "source": [
    "fl_ohne = pd.read_table(\"HeNe-Laser/data/beide-moden-littow.txt\",decimal=\",\",skipfooter=1,skiprows=17,encoding='latin_1',header=None)\n",
    "fl_db_633 = pd.read_table(\"HeNe-Laser/data/fluoreszenz-db-633.txt\",decimal=\",\",skipfooter=1,skiprows=17,encoding='latin_1',header=None)\n",
    "fl_lt_633 = pd.read_table(\"HeNe-Laser/data/fluoreszenz-littow-633.txt\",decimal=\",\",skipfooter=1,skiprows=17,encoding='latin_1',header=None)\n",
    "fl_lt_beide = pd.read_table(\"HeNe-Laser/data/fluoreszenz-littow-633.txt\",decimal=\",\",skipfooter=1,skiprows=17,encoding='latin_1',header=None)"
   ]
  },
  {
   "cell_type": "markdown",
   "id": "a8a188ac-5ae0-4667-861a-fd5d76a18a34",
   "metadata": {
    "tags": []
   },
   "source": [
    "### peaks"
   ]
  },
  {
   "cell_type": "code",
   "execution_count": 112,
   "id": "2eb45fc3-3443-4a7b-9f9b-b52091b7a550",
   "metadata": {},
   "outputs": [
    {
     "data": {
      "text/plain": [
       "<matplotlib.legend.Legend at 0xffff5e592bc0>"
      ]
     },
     "execution_count": 112,
     "metadata": {},
     "output_type": "execute_result"
    },
    {
     "data": {
      "image/png": "[encoded data removed]",
      "text/plain": [
       "<Figure size 432x288 with 1 Axes>"
      ]
     },
     "metadata": {
      "needs_background": "light"
     },
     "output_type": "display_data"
    }
   ],
   "source": [
    "plt.plot(db_633[0],db_633[1],label='db 633')\n",
    "plt.plot(lt_633[0],lt_633[1],label='lt 633')\n",
    "plt.plot(lt_640[0],lt_640[1],label='lt 640')\n",
    "plt.plot(lt_beide[0],lt_beide[1],label='lt beide')\n",
    "# plt.plot(fl_ohne[0],fl_ohne[1],label='fluoreszenz ohne lasing')\n",
    "\n",
    "plt.xlim(620,660)\n",
    "plt.legend()\n",
    "\n",
    "# gleiche messeinstellungen\n"
   ]
  },
  {
   "cell_type": "markdown",
   "id": "17559450-efb3-4caa-87e7-ecf91d69901c",
   "metadata": {},
   "source": [
    "### fluoreszenz"
   ]
  },
  {
   "cell_type": "code",
   "execution_count": 110,
   "id": "82e3b7af-e980-40bc-84ff-1bef28c72312",
   "metadata": {},
   "outputs": [
    {
     "data": {
      "text/plain": [
       "(620.0, 660.0)"
      ]
     },
     "execution_count": 110,
     "metadata": {},
     "output_type": "execute_result"
    },
    {
     "data": {
      "image/png": "[encoded data removed]",
      "text/plain": [
       "<Figure size 432x288 with 1 Axes>"
      ]
     },
     "metadata": {
      "needs_background": "light"
     },
     "output_type": "display_data"
    }
   ],
   "source": [
    "plt.plot(fl_ohne[0],fl_ohne[1],label='fl')\n",
    "plt.xlim(620,660)"
   ]
  },
  {
   "cell_type": "code",
   "execution_count": 117,
   "id": "ea887e46-3d70-40ed-817d-fc880eb09b7f",
   "metadata": {},
   "outputs": [
    {
     "data": {
      "text/plain": [
       "(620.0, 660.0)"
      ]
     },
     "execution_count": 117,
     "metadata": {},
     "output_type": "execute_result"
    },
    {
     "data": {
      "image/png": "[encoded data removed]",
      "text/plain": [
       "<Figure size 432x288 with 1 Axes>"
      ]
     },
     "metadata": {
      "needs_background": "light"
     },
     "output_type": "display_data"
    }
   ],
   "source": [
    "plt.plot(db_633[0],normalize(db_633[1],0,1),label='db 633')\n",
    "plt.plot(fl_db_633[0],normalize(fl_db_633[1],-1,1),label='fl')\n",
    "\n",
    "plt.xlim(620,660)\n"
   ]
  },
  {
   "cell_type": "code",
   "execution_count": null,
   "id": "eb5f62ad-70bd-4aeb-bd23-7d44ebbfe0a6",
   "metadata": {},
   "outputs": [],
   "source": []
  },
  {
   "cell_type": "code",
   "execution_count": null,
   "id": "486e9e35-e63e-44c3-bc7a-7c1d47838f12",
   "metadata": {},
   "outputs": [],
   "source": []
  }
 ],
 "metadata": {
  "kernelspec": {
   "display_name": "Python 3 (ipykernel)",
   "language": "python",
   "name": "python3"
  },
  "language_info": {
   "codemirror_mode": {
    "name": "ipython",
    "version": 3
   },
   "file_extension": ".py",
   "mimetype": "text/x-python",
   "name": "python",
   "nbconvert_exporter": "python",
   "pygments_lexer": "ipython3",
   "version": "3.10.5"
  }
 },
 "nbformat": 4,
 "nbformat_minor": 5
}
