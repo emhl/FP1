{
 "cells": [
  {
   "attachments": {},
   "cell_type": "markdown",
   "metadata": {},
   "source": [
    "# Compton Effekt"
   ]
  },
  {
   "attachments": {},
   "cell_type": "markdown",
   "metadata": {},
   "source": [
    "## initial imports"
   ]
  },
  {
   "cell_type": "code",
   "execution_count": 2,
   "metadata": {},
   "outputs": [
    {
     "data": {
      "text/plain": [
       "<Figure size 432x288 with 0 Axes>"
      ]
     },
     "metadata": {},
     "output_type": "display_data"
    }
   ],
   "source": [
    "import numpy as np\n",
    "import matplotlib.pyplot as plt\n",
    "import pandas as pd\n",
    "from scipy.optimize import curve_fit\n",
    "import scipy.constants as con\n",
    "import uncertainties as un\n",
    "import uncertainties.unumpy as unp\n",
    "from scipy.signal import find_peaks,find_peaks_cwt\n",
    "import scipy.signal as sig\n",
    "import scienceplots\n",
    "plt.figure()\n",
    "plt.style.use('science')\n",
    "import os\n",
    "if not os.path.exists('Compton/output'):\n",
    "    os.makedirs('Compton/output')"
   ]
  },
  {
   "cell_type": "code",
   "execution_count": 3,
   "metadata": {},
   "outputs": [],
   "source": [
    "# normalize\n",
    "def normalize(arr, t_min, t_max):\n",
    "    arr = arr.to_numpy()\n",
    "    norm_arr = []\n",
    "    diff = t_max - t_min\n",
    "    diff_arr = max(arr) - min(arr)   \n",
    "    for i in arr:\n",
    "        temp = (((i - min(arr))*diff)/diff_arr) + t_min\n",
    "        norm_arr.append(temp)\n",
    "    return norm_arr\n",
    "def simple_norm(arr):\n",
    "    arr = arr.to_numpy()\n",
    "    norm_arr = []\n",
    "    diff = 1\n",
    "    diff_arr = max(arr) - min(arr)   \n",
    "    for i in arr:\n",
    "        temp = (((i - min(arr))*diff)/diff_arr)\n",
    "        norm_arr.append(temp)\n",
    "    return norm_arr\n",
    "def norm2(arr):\n",
    "    arr = arr.to_numpy()\n",
    "    diff_arr = max(arr) - min(arr)   \n",
    "    return arr/diff_arr\n",
    "\n",
    "def mapcolors(n):\n",
    "    \"\"\"Return a list of n colors from the default colormap\"\"\"\n",
    "    return [plt.cm.jet(int(x*plt.cm.jet.N/n)) for x in range(n)]"
   ]
  },
  {
   "attachments": {},
   "cell_type": "markdown",
   "metadata": {},
   "source": [
    "## 1 Kalibrierung"
   ]
  },
  {
   "attachments": {},
   "cell_type": "markdown",
   "metadata": {},
   "source": [
    "### import data"
   ]
  },
  {
   "cell_type": "code",
   "execution_count": 4,
   "metadata": {},
   "outputs": [
    {
     "data": {
      "text/html": [
       "<div>\n",
       "<style scoped>\n",
       "    .dataframe tbody tr th:only-of-type {\n",
       "        vertical-align: middle;\n",
       "    }\n",
       "\n",
       "    .dataframe tbody tr th {\n",
       "        vertical-align: top;\n",
       "    }\n",
       "\n",
       "    .dataframe thead th {\n",
       "        text-align: right;\n",
       "    }\n",
       "</style>\n",
       "<table border=\"1\" class=\"dataframe\">\n",
       "  <thead>\n",
       "    <tr style=\"text-align: right;\">\n",
       "      <th></th>\n",
       "      <th>channel</th>\n",
       "      <th>counts</th>\n",
       "    </tr>\n",
       "  </thead>\n",
       "  <tbody>\n",
       "    <tr>\n",
       "      <th>0</th>\n",
       "      <td>0</td>\n",
       "      <td>132</td>\n",
       "    </tr>\n",
       "    <tr>\n",
       "      <th>1</th>\n",
       "      <td>1</td>\n",
       "      <td>752</td>\n",
       "    </tr>\n",
       "    <tr>\n",
       "      <th>2</th>\n",
       "      <td>2</td>\n",
       "      <td>725</td>\n",
       "    </tr>\n",
       "    <tr>\n",
       "      <th>3</th>\n",
       "      <td>3</td>\n",
       "      <td>717</td>\n",
       "    </tr>\n",
       "    <tr>\n",
       "      <th>4</th>\n",
       "      <td>4</td>\n",
       "      <td>768</td>\n",
       "    </tr>\n",
       "    <tr>\n",
       "      <th>...</th>\n",
       "      <td>...</td>\n",
       "      <td>...</td>\n",
       "    </tr>\n",
       "    <tr>\n",
       "      <th>251</th>\n",
       "      <td>251</td>\n",
       "      <td>6</td>\n",
       "    </tr>\n",
       "    <tr>\n",
       "      <th>252</th>\n",
       "      <td>252</td>\n",
       "      <td>6</td>\n",
       "    </tr>\n",
       "    <tr>\n",
       "      <th>253</th>\n",
       "      <td>253</td>\n",
       "      <td>7</td>\n",
       "    </tr>\n",
       "    <tr>\n",
       "      <th>254</th>\n",
       "      <td>254</td>\n",
       "      <td>9</td>\n",
       "    </tr>\n",
       "    <tr>\n",
       "      <th>255</th>\n",
       "      <td>255</td>\n",
       "      <td>0</td>\n",
       "    </tr>\n",
       "  </tbody>\n",
       "</table>\n",
       "<p>256 rows × 2 columns</p>\n",
       "</div>"
      ],
      "text/plain": [
       "     channel  counts\n",
       "0          0     132\n",
       "1          1     752\n",
       "2          2     725\n",
       "3          3     717\n",
       "4          4     768\n",
       "..       ...     ...\n",
       "251      251       6\n",
       "252      252       6\n",
       "253      253       7\n",
       "254      254       9\n",
       "255      255       0\n",
       "\n",
       "[256 rows x 2 columns]"
      ]
     },
     "execution_count": 4,
     "metadata": {},
     "output_type": "execute_result"
    }
   ],
   "source": [
    "co60_kalib = pd.read_csv('Compton/data_alt/Kalibrierung_Punkt1/Co60_Kalibrierung.txt', sep='\\t', header=None, names=['channel', 'counts'])\n",
    "cs137_kalib = pd.read_csv('Compton/data_alt/Kalibrierung_Punkt1/Cs137_Kalibrierung.txt', sep='\\t', header=None, names=['channel', 'counts'])\n",
    "na22_kalib = pd.read_csv('Compton/data_alt/Kalibrierung_Punkt1/Na22_Kalibrierung.txt', sep='\\t', header=None, names=['channel', 'counts'])\n",
    "kalib_energies = unp.uarray([1173.2,1333,662,511],12)\n",
    "\n",
    "co60_kalib"
   ]
  },
  {
   "attachments": {},
   "cell_type": "markdown",
   "metadata": {},
   "source": [
    "### analyze data"
   ]
  },
  {
   "cell_type": "code",
   "execution_count": 5,
   "metadata": {},
   "outputs": [
    {
     "data": {
      "image/png": "[encoded data removed]",
      "text/plain": [
       "<Figure size 252x189 with 1 Axes>"
      ]
     },
     "metadata": {
      "needs_background": "light"
     },
     "output_type": "display_data"
    }
   ],
   "source": [
    "plt.plot(co60_kalib['channel'], co60_kalib['counts'], label='Co60')\n",
    "plt.plot(cs137_kalib['channel'], cs137_kalib['counts'], label='Cs137')\n",
    "plt.plot(na22_kalib['channel'], na22_kalib['counts'], label='Na22')\n",
    "plt.legend()\n",
    "\n",
    "plt.xlabel('Channel')\n",
    "plt.ylabel('Counts')\n",
    "\n",
    "plt.yscale('log')"
   ]
  },
  {
   "cell_type": "code",
   "execution_count": 6,
   "metadata": {},
   "outputs": [
    {
     "data": {
      "text/plain": [
       "array([196, 222])"
      ]
     },
     "execution_count": 6,
     "metadata": {},
     "output_type": "execute_result"
    },
    {
     "data": {
      "image/png": "[encoded data removed]",
      "text/plain": [
       "<Figure size 252x189 with 1 Axes>"
      ]
     },
     "metadata": {
      "needs_background": "light"
     },
     "output_type": "display_data"
    }
   ],
   "source": [
    "x,y= co60_kalib['channel'], co60_kalib['counts']\n",
    "plt.plot(x,y,label='signal')\n",
    "\n",
    "c60_peaks, _= sig.find_peaks(y, height=1200, distance=20,width=10)\n",
    "plt.scatter(x[c60_peaks],y[c60_peaks], label='peaks')\n",
    "\n",
    "plt.title('Co60')\n",
    "plt.xlabel('Channel')\n",
    "plt.ylabel('Counts')\n",
    "plt.legend()\n",
    "\n",
    "c60_peaks"
   ]
  },
  {
   "cell_type": "code",
   "execution_count": 7,
   "metadata": {},
   "outputs": [
    {
     "data": {
      "text/plain": [
       "array([113])"
      ]
     },
     "execution_count": 7,
     "metadata": {},
     "output_type": "execute_result"
    },
    {
     "data": {
      "image/png": "[encoded data removed]",
      "text/plain": [
       "<Figure size 252x189 with 1 Axes>"
      ]
     },
     "metadata": {
      "needs_background": "light"
     },
     "output_type": "display_data"
    }
   ],
   "source": [
    "x,y= cs137_kalib['channel'], cs137_kalib['counts']\n",
    "plt.plot(x,y,label='signal')\n",
    "\n",
    "cs137_peaks, _= sig.find_peaks(y, height=4000, distance=20)\n",
    "plt.scatter(x[cs137_peaks],y[cs137_peaks], label='peaks')\n",
    "\n",
    "plt.title('Cs137')\n",
    "plt.xlabel('Channel')\n",
    "plt.ylabel('Counts')\n",
    "plt.legend()\n",
    "\n",
    "cs137_peaks"
   ]
  },
  {
   "cell_type": "code",
   "execution_count": 8,
   "metadata": {},
   "outputs": [
    {
     "data": {
      "text/plain": [
       "array([87])"
      ]
     },
     "execution_count": 8,
     "metadata": {},
     "output_type": "execute_result"
    },
    {
     "data": {
      "image/png": "[encoded data removed]",
      "text/plain": [
       "<Figure size 252x189 with 1 Axes>"
      ]
     },
     "metadata": {
      "needs_background": "light"
     },
     "output_type": "display_data"
    }
   ],
   "source": [
    "x,y= na22_kalib['channel'],na22_kalib['counts']\n",
    "plt.plot(x,y,label='signal')\n",
    "\n",
    "na22_peaks, _= sig.find_peaks(y, height=200, distance=20)\n",
    "plt.scatter(x[na22_peaks],y[na22_peaks], label='peaks')\n",
    "\n",
    "plt.title('Na22')\n",
    "plt.xlabel('Channel')\n",
    "plt.ylabel('Counts')\n",
    "plt.legend()\n",
    "\n",
    "na22_peaks"
   ]
  },
  {
   "cell_type": "code",
   "execution_count": 9,
   "metadata": {},
   "outputs": [],
   "source": [
    "def linfit(x,a,b):\n",
    "    return a*x+b"
   ]
  },
  {
   "cell_type": "code",
   "execution_count": 10,
   "metadata": {},
   "outputs": [
    {
     "data": {
      "text/plain": [
       "(array([196.0+/-2.0, 222.0+/-2.0, 113.0+/-2.0, 87.0+/-2.0], dtype=object),\n",
       " array([1173.2+/-12.0, 1333.0+/-12.0, 662.0+/-12.0, 511.0+/-12.0],\n",
       "       dtype=object))"
      ]
     },
     "execution_count": 10,
     "metadata": {},
     "output_type": "execute_result"
    }
   ],
   "source": [
    "kalib_channels = np.array([])\n",
    "kalib_channels = np.append(kalib_channels,c60_peaks)\n",
    "kalib_channels = np.append(kalib_channels,cs137_peaks)\n",
    "kalib_channels = np.append(kalib_channels,na22_peaks)\n",
    "kalib_channels = unp.uarray(kalib_channels, 2)\n",
    "kalib_channels,kalib_energies"
   ]
  },
  {
   "cell_type": "code",
   "execution_count": 11,
   "metadata": {},
   "outputs": [
    {
     "name": "stdout",
     "output_type": "stream",
     "text": [
      "a = 6.11(4)keV/chn \t b = -24+/-6keV\n"
     ]
    },
    {
     "data": {
      "text/plain": [
       "Text(0, 0.5, 'Energie [keV]')"
      ]
     },
     "execution_count": 11,
     "metadata": {},
     "output_type": "execute_result"
    },
    {
     "data": {
      "image/png": "[encoded data removed]",
      "text/plain": [
       "<Figure size 252x189 with 1 Axes>"
      ]
     },
     "metadata": {
      "needs_background": "light"
     },
     "output_type": "display_data"
    }
   ],
   "source": [
    "x ,y = unp.nominal_values(kalib_channels),unp.nominal_values(kalib_energies)\n",
    "xerr,yerr = unp.std_devs(kalib_channels),unp.std_devs(kalib_energies)\n",
    "\n",
    "plt.errorbar(x,y,yerr,xerr,fmt='.',capsize=5)\n",
    "\n",
    "c,cov = curve_fit(linfit,x,y,sigma=yerr)\n",
    "perr=np.sqrt(np.diag(cov))\n",
    "plt.plot(x,linfit(x,*c),label='fit')\n",
    "\n",
    "a = unp.uarray(c[0],perr[0])\n",
    "b = unp.uarray(c[1],perr[1])\n",
    "print(f'a = {a:S}keV/chn \\t b = {b}keV')\n",
    "\n",
    "def energy(channel):\n",
    "    return a*channel+b\n",
    "\n",
    "plt.xlabel('Channel')\n",
    "plt.ylabel('Energie [keV]')"
   ]
  },
  {
   "attachments": {},
   "cell_type": "markdown",
   "metadata": {},
   "source": [
    "## 2 Streuwinkel"
   ]
  },
  {
   "attachments": {},
   "cell_type": "markdown",
   "metadata": {},
   "source": [
    "### import data"
   ]
  },
  {
   "cell_type": "code",
   "execution_count": 12,
   "metadata": {},
   "outputs": [
    {
     "data": {
      "text/html": [
       "<div>\n",
       "<style scoped>\n",
       "    .dataframe tbody tr th:only-of-type {\n",
       "        vertical-align: middle;\n",
       "    }\n",
       "\n",
       "    .dataframe tbody tr th {\n",
       "        vertical-align: top;\n",
       "    }\n",
       "\n",
       "    .dataframe thead th {\n",
       "        text-align: right;\n",
       "    }\n",
       "</style>\n",
       "<table border=\"1\" class=\"dataframe\">\n",
       "  <thead>\n",
       "    <tr style=\"text-align: right;\">\n",
       "      <th></th>\n",
       "      <th>channel</th>\n",
       "      <th>counts</th>\n",
       "    </tr>\n",
       "  </thead>\n",
       "  <tbody>\n",
       "    <tr>\n",
       "      <th>0</th>\n",
       "      <td>0</td>\n",
       "      <td>4</td>\n",
       "    </tr>\n",
       "    <tr>\n",
       "      <th>1</th>\n",
       "      <td>1</td>\n",
       "      <td>19</td>\n",
       "    </tr>\n",
       "    <tr>\n",
       "      <th>2</th>\n",
       "      <td>2</td>\n",
       "      <td>9</td>\n",
       "    </tr>\n",
       "    <tr>\n",
       "      <th>3</th>\n",
       "      <td>3</td>\n",
       "      <td>7</td>\n",
       "    </tr>\n",
       "    <tr>\n",
       "      <th>4</th>\n",
       "      <td>4</td>\n",
       "      <td>10</td>\n",
       "    </tr>\n",
       "    <tr>\n",
       "      <th>...</th>\n",
       "      <td>...</td>\n",
       "      <td>...</td>\n",
       "    </tr>\n",
       "    <tr>\n",
       "      <th>251</th>\n",
       "      <td>251</td>\n",
       "      <td>0</td>\n",
       "    </tr>\n",
       "    <tr>\n",
       "      <th>252</th>\n",
       "      <td>252</td>\n",
       "      <td>1</td>\n",
       "    </tr>\n",
       "    <tr>\n",
       "      <th>253</th>\n",
       "      <td>253</td>\n",
       "      <td>0</td>\n",
       "    </tr>\n",
       "    <tr>\n",
       "      <th>254</th>\n",
       "      <td>254</td>\n",
       "      <td>0</td>\n",
       "    </tr>\n",
       "    <tr>\n",
       "      <th>255</th>\n",
       "      <td>255</td>\n",
       "      <td>0</td>\n",
       "    </tr>\n",
       "  </tbody>\n",
       "</table>\n",
       "<p>256 rows × 2 columns</p>\n",
       "</div>"
      ],
      "text/plain": [
       "     channel  counts\n",
       "0          0       4\n",
       "1          1      19\n",
       "2          2       9\n",
       "3          3       7\n",
       "4          4      10\n",
       "..       ...     ...\n",
       "251      251       0\n",
       "252      252       1\n",
       "253      253       0\n",
       "254      254       0\n",
       "255      255       0\n",
       "\n",
       "[256 rows x 2 columns]"
      ]
     },
     "execution_count": 12,
     "metadata": {},
     "output_type": "execute_result"
    }
   ],
   "source": [
    "streuwinkel = [0, 10, 20, 30, 40, 50, 60, 70, 80, 90, 100, 110, 120, 130, 140]\n",
    "streuwinkel = unp.uarray(streuwinkel,0.5)\n",
    "streu_data = []*len(streuwinkel)\n",
    "for i in streuwinkel:\n",
    "    streu_data.append(pd.read_csv(f'Compton/data_alt/Streuwinkel_Punkt2/Cs137_{int(i.n)}grad.txt', sep='\\t', header=None, names=['channel', 'counts']))\n",
    "streu_data[len(streu_data)-1]"
   ]
  },
  {
   "attachments": {},
   "cell_type": "markdown",
   "metadata": {},
   "source": [
    "### analyze data"
   ]
  },
  {
   "cell_type": "code",
   "execution_count": 13,
   "metadata": {},
   "outputs": [
    {
     "data": {
      "text/plain": [
       "Text(0, 0.5, 'Counts')"
      ]
     },
     "execution_count": 13,
     "metadata": {},
     "output_type": "execute_result"
    },
    {
     "data": {
      "image/png": "[encoded data removed]",
      "text/plain": [
       "<Figure size 252x189 with 1 Axes>"
      ]
     },
     "metadata": {
      "needs_background": "light"
     },
     "output_type": "display_data"
    }
   ],
   "source": [
    "for i in range(len(streu_data)):\n",
    "    plt.plot(streu_data[i]['channel'], streu_data[i]['counts'], label=f'{streuwinkel[i]:S}°',color=mapcolors(len(streu_data))[i])\n",
    "plt.yscale('log')\n",
    "plt.legend(bbox_to_anchor=(1.05, 1), loc='upper left', borderaxespad=0., ncol=2)\n",
    "\n",
    "\n",
    "plt.xlabel('Channel')\n",
    "plt.ylabel('Counts')"
   ]
  },
  {
   "cell_type": "code",
   "execution_count": 37,
   "metadata": {},
   "outputs": [
    {
     "name": "stdout",
     "output_type": "stream",
     "text": [
      "0.0(5)°: 672(7)keV\n",
      "10.0(5)°: 636(7)keV\n",
      "20.0(5)°: 605(7)keV\n",
      "30.0(5)°: 550(7)keV\n",
      "40.0(5)°: 501(7)keV\n",
      "50.0(5)°: 440(6)keV\n",
      "60.0(5)°: 398(6)keV\n",
      "70.0(5)°: 336(6)keV\n",
      "80.0(5)°: 312(6)keV\n",
      "90.0(5)°: 282(6)keV\n",
      "100.0(5)°: 257(6)keV\n",
      "110.0(5)°: 227(6)keV\n",
      "120.0(5)°: 220(6)keV\n",
      "130.0(5)°: 208(6)keV\n",
      "140.0(5)°: 190(6)keV\n"
     ]
    },
    {
     "data": {
      "text/plain": [
       "Text(0.5, 0, 'Energie [keV]')"
      ]
     },
     "execution_count": 37,
     "metadata": {},
     "output_type": "execute_result"
    },
    {
     "data": {
      "image/png": "[encoded data removed]",
      "text/plain": [
       "<Figure size 252x189 with 1 Axes>"
      ]
     },
     "metadata": {
      "needs_background": "light"
     },
     "output_type": "display_data"
    }
   ],
   "source": [
    "streu_energies = np.array([])\n",
    "for i in range(len(streu_data)):\n",
    "    x,y = energy(streu_data[i]['channel']), streu_data[i]['counts']\n",
    "    plt.plot(unp.nominal_values(x),y, label=f'{streuwinkel[i]:S}°',color=mapcolors(len(streu_data))[i])\n",
    "    peaks, _= sig.find_peaks(y, height=100, distance=20,width=4,prominence=max(y)/5)\n",
    "    plt.scatter(unp.nominal_values(x[peaks]),y[peaks], color=mapcolors(len(streu_data))[i])\n",
    "    if (len(peaks)==1):\n",
    "        print(f'{streuwinkel[i]:S}°: {energy(peaks[0]):S}keV')\n",
    "        streu_energies = np.append(streu_energies,energy(peaks[0]))\n",
    "    elif (len(peaks)==0):\n",
    "        print(f'{streuwinkel[i]:S}°: no peak found')\n",
    "    else:\n",
    "        print(f'{streuwinkel[i]:S}°: too many peaks')\n",
    "plt.yscale('log')\n",
    "plt.legend(bbox_to_anchor=(1.05, 1), loc='upper left', borderaxespad=0., ncol=2)\n",
    "plt.xlim(0,900)\n",
    "plt.ylim(10,50000)\n",
    "plt.ylabel('Counts')\n",
    "plt.xlabel('Energie [keV]')"
   ]
  },
  {
   "cell_type": "code",
   "execution_count": 39,
   "metadata": {},
   "outputs": [
    {
     "data": {
      "text/plain": [
       "Text(0, 0.5, 'Energie [keV]')"
      ]
     },
     "execution_count": 39,
     "metadata": {},
     "output_type": "execute_result"
    },
    {
     "data": {
      "image/png": "[encoded data removed]",
      "text/plain": [
       "<Figure size 252x189 with 1 Axes>"
      ]
     },
     "metadata": {
      "needs_background": "light"
     },
     "output_type": "display_data"
    }
   ],
   "source": [
    "plt.errorbar(unp.nominal_values(streuwinkel),unp.nominal_values(streu_energies),unp.std_devs(streu_energies),unp.std_devs(streuwinkel),fmt='.',capsize=5)\n",
    "plt.xlabel('Streuwinkel [°]')\n",
    "plt.ylabel('Energie [keV]')"
   ]
  },
  {
   "attachments": {},
   "cell_type": "markdown",
   "metadata": {},
   "source": [
    "## 3 Rückstoßelektronen"
   ]
  },
  {
   "attachments": {},
   "cell_type": "markdown",
   "metadata": {},
   "source": [
    "### import data"
   ]
  },
  {
   "cell_type": "code",
   "execution_count": 15,
   "metadata": {},
   "outputs": [],
   "source": [
    "rueckstoss_data = pd.read_csv('Compton/data_alt/Rückstosselektronen_Punkt3/Spektrum_Rückstosselektronen.txt', sep='\\t', header=None, names=['channel', 'counts'])"
   ]
  },
  {
   "attachments": {},
   "cell_type": "markdown",
   "metadata": {},
   "source": [
    "### analyze data"
   ]
  },
  {
   "cell_type": "code",
   "execution_count": 16,
   "metadata": {},
   "outputs": [
    {
     "data": {
      "text/plain": [
       "Text(0, 0.5, 'Counts')"
      ]
     },
     "execution_count": 16,
     "metadata": {},
     "output_type": "execute_result"
    },
    {
     "data": {
      "image/png": "[encoded data removed]",
      "text/plain": [
       "<Figure size 252x189 with 1 Axes>"
      ]
     },
     "metadata": {
      "needs_background": "light"
     },
     "output_type": "display_data"
    }
   ],
   "source": [
    "plt.plot(rueckstoss_data['channel'], rueckstoss_data['counts'], label='Rückstosselektronen')\n",
    "\n",
    "plt.xlabel('Channel')\n",
    "plt.ylabel('Counts')"
   ]
  },
  {
   "attachments": {},
   "cell_type": "markdown",
   "metadata": {},
   "source": [
    "## 4 Koinzidenz"
   ]
  },
  {
   "attachments": {},
   "cell_type": "markdown",
   "metadata": {},
   "source": [
    "### import data"
   ]
  },
  {
   "cell_type": "code",
   "execution_count": 17,
   "metadata": {},
   "outputs": [],
   "source": [
    "koinzidenz_winkel = [30, 50, 80, 110, 140]\n",
    "koinzidenz_winkel = unp.uarray(koinzidenz_winkel,0.5)\n",
    "koinzidenz_data = []*len(koinzidenz_winkel)\n",
    "for i in koinzidenz_winkel:\n",
    "    koinzidenz_data.append(pd.read_csv(f'Compton/data_alt/Koinzidenz_Punkt4/Koinzidenz_Messung_{int(i.n)}grad.txt', sep='\\t', header=None, names=['count1', 'count2']))"
   ]
  },
  {
   "attachments": {},
   "cell_type": "markdown",
   "metadata": {},
   "source": [
    "### analyze data"
   ]
  },
  {
   "cell_type": "code",
   "execution_count": 18,
   "metadata": {},
   "outputs": [
    {
     "data": {
      "text/plain": [
       "Text(0, 0.5, 'Count 2')"
      ]
     },
     "execution_count": 18,
     "metadata": {},
     "output_type": "execute_result"
    },
    {
     "data": {
      "image/png": "[encoded data removed]",
      "text/plain": [
       "<Figure size 252x189 with 1 Axes>"
      ]
     },
     "metadata": {
      "needs_background": "light"
     },
     "output_type": "display_data"
    }
   ],
   "source": [
    "for i in range(len(koinzidenz_data)):\n",
    "    plt.plot(koinzidenz_data[i]['count1'], koinzidenz_data[i]['count2'], label=f'{koinzidenz_winkel[i]:S}°',color=mapcolors(len(koinzidenz_data))[i])\n",
    "plt.yscale('log')\n",
    "plt.xscale('log')\n",
    "plt.legend(bbox_to_anchor=(1.05, 1), loc='upper left', borderaxespad=0.)\n",
    "\n",
    "plt.xlabel('Count 1')\n",
    "plt.ylabel('Count 2')"
   ]
  },
  {
   "attachments": {},
   "cell_type": "markdown",
   "metadata": {},
   "source": [
    "## 5 Energien der Photopeaks"
   ]
  },
  {
   "cell_type": "code",
   "execution_count": null,
   "metadata": {},
   "outputs": [],
   "source": []
  },
  {
   "attachments": {},
   "cell_type": "markdown",
   "metadata": {},
   "source": [
    "## 6 Ruhemasse des Elektrons"
   ]
  },
  {
   "cell_type": "code",
   "execution_count": null,
   "metadata": {},
   "outputs": [],
   "source": []
  },
  {
   "attachments": {},
   "cell_type": "markdown",
   "metadata": {},
   "source": [
    "## 7/8 Streuquerschnitt"
   ]
  },
  {
   "cell_type": "code",
   "execution_count": null,
   "metadata": {},
   "outputs": [],
   "source": []
  }
 ],
 "metadata": {
  "kernelspec": {
   "display_name": "Python 3",
   "language": "python",
   "name": "python3"
  },
  "language_info": {
   "codemirror_mode": {
    "name": "ipython",
    "version": 3
   },
   "file_extension": ".py",
   "mimetype": "text/x-python",
   "name": "python",
   "nbconvert_exporter": "python",
   "pygments_lexer": "ipython3",
   "version": "3.10.8"
  },
  "orig_nbformat": 4,
  "vscode": {
   "interpreter": {
    "hash": "e7370f93d1d0cde622a1f8e1c04877d8463912d04d973331ad4851f04de6915a"
   }
  }
 },
 "nbformat": 4,
 "nbformat_minor": 2
}
